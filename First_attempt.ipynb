{
 "cells": [
  {
   "cell_type": "markdown",
   "metadata": {},
   "source": [
    "### Data Loading"
   ]
  },
  {
   "cell_type": "code",
   "execution_count": 1,
   "metadata": {},
   "outputs": [],
   "source": [
    "import pandas as pd\n",
    "from helpers import *"
   ]
  },
  {
   "cell_type": "markdown",
   "metadata": {},
   "source": [
    "Firstly, let's create our data-frame from our source data. Additionally, we'll transform the `Score_home` and `Score_away` columns into our target variable such that:\n",
    "$$\n",
    "y = \\cases{-1 \\\\ \n",
    "            0 \\\\\n",
    "            1 }\n",
    "$$\n",
    "using the helper function `score_to_win()`"
   ]
  },
  {
   "cell_type": "code",
   "execution_count": 2,
   "metadata": {},
   "outputs": [
    {
     "data": {
      "text/html": [
       "<div>\n",
       "<style scoped>\n",
       "    .dataframe tbody tr th:only-of-type {\n",
       "        vertical-align: middle;\n",
       "    }\n",
       "\n",
       "    .dataframe tbody tr th {\n",
       "        vertical-align: top;\n",
       "    }\n",
       "\n",
       "    .dataframe thead th {\n",
       "        text-align: right;\n",
       "    }\n",
       "</style>\n",
       "<table border=\"1\" class=\"dataframe\">\n",
       "  <thead>\n",
       "    <tr style=\"text-align: right;\">\n",
       "      <th></th>\n",
       "      <th>MatchID</th>\n",
       "      <th>Home_team</th>\n",
       "      <th>Away_team</th>\n",
       "      <th>Score_home</th>\n",
       "      <th>Score_away</th>\n",
       "      <th>Possession_home</th>\n",
       "      <th>Possession_away</th>\n",
       "      <th>Shots_on_target_home</th>\n",
       "      <th>Shots_on_target_away</th>\n",
       "      <th>Shots_home</th>\n",
       "      <th>...</th>\n",
       "      <th>year</th>\n",
       "      <th>Expenditures_home</th>\n",
       "      <th>Arrivals_home</th>\n",
       "      <th>Income_home</th>\n",
       "      <th>Departures_home</th>\n",
       "      <th>Expenditures_away</th>\n",
       "      <th>Arrivals_away</th>\n",
       "      <th>Income_away</th>\n",
       "      <th>Departures_away</th>\n",
       "      <th>target</th>\n",
       "    </tr>\n",
       "  </thead>\n",
       "  <tbody>\n",
       "    <tr>\n",
       "      <th>0</th>\n",
       "      <td>5937</td>\n",
       "      <td>Blackburn</td>\n",
       "      <td>Reading</td>\n",
       "      <td>3</td>\n",
       "      <td>3</td>\n",
       "      <td>54.0</td>\n",
       "      <td>46.0</td>\n",
       "      <td>6</td>\n",
       "      <td>4</td>\n",
       "      <td>15</td>\n",
       "      <td>...</td>\n",
       "      <td>2007</td>\n",
       "      <td>18.84</td>\n",
       "      <td>21</td>\n",
       "      <td>19.28</td>\n",
       "      <td>25</td>\n",
       "      <td>10.52</td>\n",
       "      <td>25</td>\n",
       "      <td>0.00</td>\n",
       "      <td>19</td>\n",
       "      <td>0</td>\n",
       "    </tr>\n",
       "    <tr>\n",
       "      <th>1</th>\n",
       "      <td>5938</td>\n",
       "      <td>Bolton</td>\n",
       "      <td>Aston Villa</td>\n",
       "      <td>2</td>\n",
       "      <td>2</td>\n",
       "      <td>47.1</td>\n",
       "      <td>52.9</td>\n",
       "      <td>2</td>\n",
       "      <td>2</td>\n",
       "      <td>11</td>\n",
       "      <td>...</td>\n",
       "      <td>2007</td>\n",
       "      <td>19.38</td>\n",
       "      <td>16</td>\n",
       "      <td>4.39</td>\n",
       "      <td>16</td>\n",
       "      <td>28.16</td>\n",
       "      <td>17</td>\n",
       "      <td>2.08</td>\n",
       "      <td>18</td>\n",
       "      <td>0</td>\n",
       "    </tr>\n",
       "    <tr>\n",
       "      <th>2</th>\n",
       "      <td>5939</td>\n",
       "      <td>Chelsea</td>\n",
       "      <td>Everton</td>\n",
       "      <td>1</td>\n",
       "      <td>1</td>\n",
       "      <td>59.3</td>\n",
       "      <td>40.7</td>\n",
       "      <td>7</td>\n",
       "      <td>6</td>\n",
       "      <td>20</td>\n",
       "      <td>...</td>\n",
       "      <td>2007</td>\n",
       "      <td>101.43</td>\n",
       "      <td>23</td>\n",
       "      <td>59.96</td>\n",
       "      <td>22</td>\n",
       "      <td>20.41</td>\n",
       "      <td>11</td>\n",
       "      <td>2.85</td>\n",
       "      <td>16</td>\n",
       "      <td>0</td>\n",
       "    </tr>\n",
       "    <tr>\n",
       "      <th>3</th>\n",
       "      <td>5940</td>\n",
       "      <td>Liverpool</td>\n",
       "      <td>Charlton</td>\n",
       "      <td>2</td>\n",
       "      <td>2</td>\n",
       "      <td>61.6</td>\n",
       "      <td>38.4</td>\n",
       "      <td>5</td>\n",
       "      <td>4</td>\n",
       "      <td>23</td>\n",
       "      <td>...</td>\n",
       "      <td>2007</td>\n",
       "      <td>52.44</td>\n",
       "      <td>27</td>\n",
       "      <td>23.94</td>\n",
       "      <td>28</td>\n",
       "      <td>24.68</td>\n",
       "      <td>31</td>\n",
       "      <td>2.59</td>\n",
       "      <td>36</td>\n",
       "      <td>0</td>\n",
       "    </tr>\n",
       "    <tr>\n",
       "      <th>4</th>\n",
       "      <td>5941</td>\n",
       "      <td>Man Utd</td>\n",
       "      <td>West Ham</td>\n",
       "      <td>0</td>\n",
       "      <td>1</td>\n",
       "      <td>65.3</td>\n",
       "      <td>34.7</td>\n",
       "      <td>7</td>\n",
       "      <td>2</td>\n",
       "      <td>30</td>\n",
       "      <td>...</td>\n",
       "      <td>2007</td>\n",
       "      <td>31.01</td>\n",
       "      <td>25</td>\n",
       "      <td>20.52</td>\n",
       "      <td>29</td>\n",
       "      <td>79.63</td>\n",
       "      <td>22</td>\n",
       "      <td>7.70</td>\n",
       "      <td>23</td>\n",
       "      <td>-1</td>\n",
       "    </tr>\n",
       "  </tbody>\n",
       "</table>\n",
       "<p>5 rows × 39 columns</p>\n",
       "</div>"
      ],
      "text/plain": [
       "   MatchID  Home_team    Away_team  Score_home  Score_away  Possession_home  \\\n",
       "0     5937  Blackburn      Reading           3           3             54.0   \n",
       "1     5938     Bolton  Aston Villa           2           2             47.1   \n",
       "2     5939    Chelsea      Everton           1           1             59.3   \n",
       "3     5940  Liverpool     Charlton           2           2             61.6   \n",
       "4     5941    Man Utd     West Ham           0           1             65.3   \n",
       "\n",
       "   Possession_away  Shots_on_target_home  Shots_on_target_away  Shots_home  \\\n",
       "0             46.0                     6                     4          15   \n",
       "1             52.9                     2                     2          11   \n",
       "2             40.7                     7                     6          20   \n",
       "3             38.4                     5                     4          23   \n",
       "4             34.7                     7                     2          30   \n",
       "\n",
       "    ...    year  Expenditures_home  Arrivals_home  Income_home  \\\n",
       "0   ...    2007              18.84             21        19.28   \n",
       "1   ...    2007              19.38             16         4.39   \n",
       "2   ...    2007             101.43             23        59.96   \n",
       "3   ...    2007              52.44             27        23.94   \n",
       "4   ...    2007              31.01             25        20.52   \n",
       "\n",
       "   Departures_home  Expenditures_away  Arrivals_away  Income_away  \\\n",
       "0               25              10.52             25         0.00   \n",
       "1               16              28.16             17         2.08   \n",
       "2               22              20.41             11         2.85   \n",
       "3               28              24.68             31         2.59   \n",
       "4               29              79.63             22         7.70   \n",
       "\n",
       "   Departures_away  target  \n",
       "0               19       0  \n",
       "1               18       0  \n",
       "2               16       0  \n",
       "3               36       0  \n",
       "4               23      -1  \n",
       "\n",
       "[5 rows x 39 columns]"
      ]
     },
     "execution_count": 2,
     "metadata": {},
     "output_type": "execute_result"
    }
   ],
   "source": [
    "DATA_SRC = '../Data/PL_site_2006_2018/masterdata.csv'\n",
    "df = pd.read_csv(DATA_SRC)\n",
    "\n",
    "# create win/lose label\n",
    "df['target'] = df[['Score_home', 'Score_away']].apply(score_to_win, axis = 1)\n",
    "df.head()"
   ]
  },
  {
   "cell_type": "markdown",
   "metadata": {},
   "source": [
    "### Feature Extraction\n",
    "Now, we must drop several variables from the above table in order to fit our model. We'll create `df_wo` to pass in. This leaves us with 24 avaiable features."
   ]
  },
  {
   "cell_type": "code",
   "execution_count": 3,
   "metadata": {},
   "outputs": [
    {
     "data": {
      "text/plain": [
       "['Possession_home',\n",
       " 'Possession_away',\n",
       " 'Shots_on_target_home',\n",
       " 'Shots_on_target_away',\n",
       " 'Shots_home',\n",
       " 'Shots_away',\n",
       " 'Touches_home',\n",
       " 'Touches_away',\n",
       " 'Passes_home',\n",
       " 'Passes_away',\n",
       " 'Tackles_home',\n",
       " 'Tackles_away',\n",
       " 'Clearances_home',\n",
       " 'Clearances_away',\n",
       " 'Corners_home',\n",
       " 'Corners_away',\n",
       " 'Offsides_home',\n",
       " 'Offsides_away',\n",
       " 'Yellow_cards_home',\n",
       " 'Yellow_cards_away',\n",
       " 'Fouls_conceded_home',\n",
       " 'Fouls_conceded_away',\n",
       " 'Red_cards_home',\n",
       " 'Red_cards_away',\n",
       " 'year',\n",
       " 'Expenditures_home',\n",
       " 'Arrivals_home',\n",
       " 'Income_home',\n",
       " 'Departures_home',\n",
       " 'Expenditures_away',\n",
       " 'Arrivals_away',\n",
       " 'Income_away',\n",
       " 'Departures_away']"
      ]
     },
     "execution_count": 3,
     "metadata": {},
     "output_type": "execute_result"
    }
   ],
   "source": [
    "df_wo = df.drop(columns = ['target', 'MatchID', 'Home_team', 'Away_team', 'Score_home', 'Score_away'])\n",
    "list(df_wo)"
   ]
  },
  {
   "cell_type": "markdown",
   "metadata": {},
   "source": [
    "## EDA\n",
    "### Correlation"
   ]
  },
  {
   "cell_type": "code",
   "execution_count": 5,
   "metadata": {},
   "outputs": [
    {
     "data": {
      "image/png": "[encoded data removed]",
      "text/plain": [
       "<Figure size 432x288 with 2 Axes>"
      ]
     },
     "metadata": {
      "needs_background": "light"
     },
     "output_type": "display_data"
    }
   ],
   "source": [
    "import seaborn as sns\n",
    "home_features = [ f for f in list(df_wo) if '_home' in f ]\n",
    "corr = df_wo[home_features].corr()\n",
    "_ = sns.heatmap(corr)"
   ]
  },
  {
   "cell_type": "markdown",
   "metadata": {},
   "source": [
    "### Variance Inflation\n",
    "It is likely the case that several of the above variables are collinear. Now, in many models this might not have an effect as the coefficients for one variable will be high while the other will just be nullified. However, based on our correlation analysis it is clear some variables are capturing the same information. For example, possession is highly correlated with touches and passes. This isn't surprising, if a team possesses the ball for long stretches they are likely moving the ball around. \n",
    "\n",
    "So, we'll use the concept of << Math >>\n",
    "\n",
    "We can use `statsmodels.stats.outliers_influence.variance_inflation_factor` to perform this analysis in Python."
   ]
  },
  {
   "cell_type": "code",
   "execution_count": 6,
   "metadata": {},
   "outputs": [
    {
     "name": "stdout",
     "output_type": "stream",
     "text": [
      "[('Possession_home', 486.0653996444629), ('Possession_away', 478.0328899411991), ('Shots_on_target_home', 8.88341265540607), ('Shots_on_target_away', 7.44168876563491), ('Shots_home', 22.520164579526792), ('Shots_away', 18.837895777430745), ('Touches_home', 1679.5868063725009), ('Touches_away', 1632.2906991231423), ('Passes_home', 866.9410901360411), ('Passes_away', 832.1493938696634), ('Tackles_home', 14.499726912477108), ('Tackles_away', 14.868821469217474), ('Clearances_home', 12.486482125524923), ('Clearances_away', 14.771748005823655), ('Corners_home', 7.930518365609224), ('Corners_away', 6.518106128720305), ('Offsides_home', 2.770243990163692), ('Offsides_away', 2.6080052683540442), ('Yellow_cards_home', 3.0290136017221236), ('Yellow_cards_away', 3.5663123325777972), ('Fouls_conceded_home', 14.667173510941652), ('Fouls_conceded_away', 14.920239062362345), ('Red_cards_home', 1.1172333137334791), ('Red_cards_away', 1.1466701514616544), ('year', 234.17375577037453), ('Expenditures_home', 4.665508390298928), ('Arrivals_home', 39.868605579438956), ('Income_home', 3.047973094532012), ('Departures_home', 50.49855611926084), ('Expenditures_away', 4.6038882318497585), ('Arrivals_away', 39.98321638299325), ('Income_away', 3.056538502127816), ('Departures_away', 50.66713899677163)]\n"
     ]
    }
   ],
   "source": [
    "from statsmodels.stats.outliers_influence import variance_inflation_factor\n",
    "\n",
    "vifs = []\n",
    "for i, feature in enumerate(list(df_wo)):\n",
    "    vif_tup = (feature, variance_inflation_factor(df_wo.values, i))\n",
    "    vifs.append( vif_tup )\n",
    "print(vifs)"
   ]
  },
  {
   "cell_type": "markdown",
   "metadata": {},
   "source": [
    "## Feature Engineering\n",
    "### Form\n",
    "Often, in the sport, commentators and analysts point to a team's form (essentially the recent performance) as being somewhat important in their performance in an individual game. The thinking goes: if this team has played well, they will continue to play well. It is not dissimilar to the concept of momentum, in a way. \n",
    "<< Math >>"
   ]
  },
  {
   "cell_type": "code",
   "execution_count": 7,
   "metadata": {},
   "outputs": [
    {
     "data": {
      "text/plain": [
       "['Possession_home',\n",
       " 'Possession_away',\n",
       " 'Shots_on_target_home',\n",
       " 'Shots_on_target_away',\n",
       " 'Shots_home',\n",
       " 'Shots_away',\n",
       " 'Touches_home',\n",
       " 'Touches_away',\n",
       " 'Passes_home',\n",
       " 'Passes_away',\n",
       " 'Tackles_home',\n",
       " 'Tackles_away',\n",
       " 'Clearances_home',\n",
       " 'Clearances_away',\n",
       " 'Corners_home',\n",
       " 'Corners_away',\n",
       " 'Offsides_home',\n",
       " 'Offsides_away',\n",
       " 'Yellow_cards_home',\n",
       " 'Yellow_cards_away',\n",
       " 'Fouls_conceded_home',\n",
       " 'Fouls_conceded_away',\n",
       " 'Red_cards_home',\n",
       " 'Red_cards_away',\n",
       " 'year',\n",
       " 'Expenditures_home',\n",
       " 'Arrivals_home',\n",
       " 'Income_home',\n",
       " 'Departures_home',\n",
       " 'Expenditures_away',\n",
       " 'Arrivals_away',\n",
       " 'Income_away',\n",
       " 'Departures_away',\n",
       " 'away_form_linear',\n",
       " 'home_form_linear',\n",
       " 'away_form_exp',\n",
       " 'home_form_exp']"
      ]
     },
     "execution_count": 7,
     "metadata": {},
     "output_type": "execute_result"
    }
   ],
   "source": [
    "scores = df[['MatchID', 'Home_team', 'Away_team', 'Score_home', 'Score_away']].values\n",
    "gd = gd_vectors(scores)\n",
    "\n",
    "away_form_linear = []\n",
    "home_form_linear = []\n",
    "away_form_exp = []\n",
    "home_form_exp = []\n",
    "for game in scores:\n",
    "    id, home_team, away_team, _, _ = game\n",
    "    away_form_exp.append( exponential_momentum(id, away_team, gd, alpha = .65) )\n",
    "    home_form_exp.append( exponential_momentum(id, home_team, gd, alpha = .65) )\n",
    "    away_form_linear.append( linear_momentum(id, away_team, gd) )\n",
    "    home_form_linear.append( linear_momentum(id, home_team, gd) )\n",
    "\n",
    "\n",
    "df_form = df_wo.copy()\n",
    "df_form['away_form_linear'] = pd.Series(away_form_linear)\n",
    "df_form['home_form_linear'] = pd.Series(home_form_linear)\n",
    "df_form['away_form_exp'] = pd.Series(away_form_exp)\n",
    "df_form['home_form_exp'] = pd.Series(home_form_exp)\n",
    "list(df_form)"
   ]
  },
  {
   "cell_type": "code",
   "execution_count": 8,
   "metadata": {},
   "outputs": [
    {
     "data": {
      "image/png": "[encoded data removed]",
      "text/plain": [
       "<Figure size 432x288 with 2 Axes>"
      ]
     },
     "metadata": {
      "needs_background": "light"
     },
     "output_type": "display_data"
    }
   ],
   "source": [
    "home_features = [ f for f in list(df_form) if 'home' in f ]\n",
    "corr = df_form[home_features].corr()\n",
    "_ = sns.heatmap(corr)"
   ]
  },
  {
   "cell_type": "markdown",
   "metadata": {},
   "source": [
    "## Feature Selection/Extraction"
   ]
  },
  {
   "cell_type": "markdown",
   "metadata": {},
   "source": [
    "### Assessing feature importance with random forests"
   ]
  },
  {
   "cell_type": "code",
   "execution_count": 9,
   "metadata": {},
   "outputs": [
    {
     "data": {
      "text/html": [
       "<div>\n",
       "<style scoped>\n",
       "    .dataframe tbody tr th:only-of-type {\n",
       "        vertical-align: middle;\n",
       "    }\n",
       "\n",
       "    .dataframe tbody tr th {\n",
       "        vertical-align: top;\n",
       "    }\n",
       "\n",
       "    .dataframe thead th {\n",
       "        text-align: right;\n",
       "    }\n",
       "</style>\n",
       "<table border=\"1\" class=\"dataframe\">\n",
       "  <thead>\n",
       "    <tr style=\"text-align: right;\">\n",
       "      <th></th>\n",
       "      <th>Possession_home</th>\n",
       "      <th>Possession_away</th>\n",
       "      <th>Shots_on_target_home</th>\n",
       "      <th>Shots_on_target_away</th>\n",
       "      <th>Shots_home</th>\n",
       "      <th>Shots_away</th>\n",
       "      <th>Touches_home</th>\n",
       "      <th>Touches_away</th>\n",
       "      <th>Passes_home</th>\n",
       "      <th>Passes_away</th>\n",
       "      <th>...</th>\n",
       "      <th>Red_cards_away</th>\n",
       "      <th>year</th>\n",
       "      <th>Expenditures_home</th>\n",
       "      <th>Arrivals_home</th>\n",
       "      <th>Income_home</th>\n",
       "      <th>Departures_home</th>\n",
       "      <th>Expenditures_away</th>\n",
       "      <th>Arrivals_away</th>\n",
       "      <th>Income_away</th>\n",
       "      <th>Departures_away</th>\n",
       "    </tr>\n",
       "  </thead>\n",
       "  <tbody>\n",
       "    <tr>\n",
       "      <th>0</th>\n",
       "      <td>54.0</td>\n",
       "      <td>46.0</td>\n",
       "      <td>6</td>\n",
       "      <td>4</td>\n",
       "      <td>15</td>\n",
       "      <td>11</td>\n",
       "      <td>553</td>\n",
       "      <td>464</td>\n",
       "      <td>356</td>\n",
       "      <td>287</td>\n",
       "      <td>...</td>\n",
       "      <td>0</td>\n",
       "      <td>2007</td>\n",
       "      <td>18.84</td>\n",
       "      <td>21</td>\n",
       "      <td>19.28</td>\n",
       "      <td>25</td>\n",
       "      <td>10.52</td>\n",
       "      <td>25</td>\n",
       "      <td>0.00</td>\n",
       "      <td>19</td>\n",
       "    </tr>\n",
       "    <tr>\n",
       "      <th>1</th>\n",
       "      <td>47.1</td>\n",
       "      <td>52.9</td>\n",
       "      <td>2</td>\n",
       "      <td>2</td>\n",
       "      <td>11</td>\n",
       "      <td>7</td>\n",
       "      <td>457</td>\n",
       "      <td>493</td>\n",
       "      <td>318</td>\n",
       "      <td>343</td>\n",
       "      <td>...</td>\n",
       "      <td>0</td>\n",
       "      <td>2007</td>\n",
       "      <td>19.38</td>\n",
       "      <td>16</td>\n",
       "      <td>4.39</td>\n",
       "      <td>16</td>\n",
       "      <td>28.16</td>\n",
       "      <td>17</td>\n",
       "      <td>2.08</td>\n",
       "      <td>18</td>\n",
       "    </tr>\n",
       "    <tr>\n",
       "      <th>2</th>\n",
       "      <td>59.3</td>\n",
       "      <td>40.7</td>\n",
       "      <td>7</td>\n",
       "      <td>6</td>\n",
       "      <td>20</td>\n",
       "      <td>11</td>\n",
       "      <td>615</td>\n",
       "      <td>471</td>\n",
       "      <td>425</td>\n",
       "      <td>305</td>\n",
       "      <td>...</td>\n",
       "      <td>0</td>\n",
       "      <td>2007</td>\n",
       "      <td>101.43</td>\n",
       "      <td>23</td>\n",
       "      <td>59.96</td>\n",
       "      <td>22</td>\n",
       "      <td>20.41</td>\n",
       "      <td>11</td>\n",
       "      <td>2.85</td>\n",
       "      <td>16</td>\n",
       "    </tr>\n",
       "    <tr>\n",
       "      <th>3</th>\n",
       "      <td>61.6</td>\n",
       "      <td>38.4</td>\n",
       "      <td>5</td>\n",
       "      <td>4</td>\n",
       "      <td>23</td>\n",
       "      <td>9</td>\n",
       "      <td>632</td>\n",
       "      <td>420</td>\n",
       "      <td>453</td>\n",
       "      <td>271</td>\n",
       "      <td>...</td>\n",
       "      <td>0</td>\n",
       "      <td>2007</td>\n",
       "      <td>52.44</td>\n",
       "      <td>27</td>\n",
       "      <td>23.94</td>\n",
       "      <td>28</td>\n",
       "      <td>24.68</td>\n",
       "      <td>31</td>\n",
       "      <td>2.59</td>\n",
       "      <td>36</td>\n",
       "    </tr>\n",
       "    <tr>\n",
       "      <th>4</th>\n",
       "      <td>65.3</td>\n",
       "      <td>34.7</td>\n",
       "      <td>7</td>\n",
       "      <td>2</td>\n",
       "      <td>30</td>\n",
       "      <td>8</td>\n",
       "      <td>825</td>\n",
       "      <td>506</td>\n",
       "      <td>619</td>\n",
       "      <td>333</td>\n",
       "      <td>...</td>\n",
       "      <td>0</td>\n",
       "      <td>2007</td>\n",
       "      <td>31.01</td>\n",
       "      <td>25</td>\n",
       "      <td>20.52</td>\n",
       "      <td>29</td>\n",
       "      <td>79.63</td>\n",
       "      <td>22</td>\n",
       "      <td>7.70</td>\n",
       "      <td>23</td>\n",
       "    </tr>\n",
       "  </tbody>\n",
       "</table>\n",
       "<p>5 rows × 33 columns</p>\n",
       "</div>"
      ],
      "text/plain": [
       "   Possession_home  Possession_away  Shots_on_target_home  \\\n",
       "0             54.0             46.0                     6   \n",
       "1             47.1             52.9                     2   \n",
       "2             59.3             40.7                     7   \n",
       "3             61.6             38.4                     5   \n",
       "4             65.3             34.7                     7   \n",
       "\n",
       "   Shots_on_target_away  Shots_home  Shots_away  Touches_home  Touches_away  \\\n",
       "0                     4          15          11           553           464   \n",
       "1                     2          11           7           457           493   \n",
       "2                     6          20          11           615           471   \n",
       "3                     4          23           9           632           420   \n",
       "4                     2          30           8           825           506   \n",
       "\n",
       "   Passes_home  Passes_away       ...         Red_cards_away  year  \\\n",
       "0          356          287       ...                      0  2007   \n",
       "1          318          343       ...                      0  2007   \n",
       "2          425          305       ...                      0  2007   \n",
       "3          453          271       ...                      0  2007   \n",
       "4          619          333       ...                      0  2007   \n",
       "\n",
       "   Expenditures_home  Arrivals_home  Income_home  Departures_home  \\\n",
       "0              18.84             21        19.28               25   \n",
       "1              19.38             16         4.39               16   \n",
       "2             101.43             23        59.96               22   \n",
       "3              52.44             27        23.94               28   \n",
       "4              31.01             25        20.52               29   \n",
       "\n",
       "   Expenditures_away  Arrivals_away  Income_away  Departures_away  \n",
       "0              10.52             25         0.00               19  \n",
       "1              28.16             17         2.08               18  \n",
       "2              20.41             11         2.85               16  \n",
       "3              24.68             31         2.59               36  \n",
       "4              79.63             22         7.70               23  \n",
       "\n",
       "[5 rows x 33 columns]"
      ]
     },
     "execution_count": 9,
     "metadata": {},
     "output_type": "execute_result"
    }
   ],
   "source": [
    "df_wo.head()"
   ]
  },
  {
   "cell_type": "code",
   "execution_count": 11,
   "metadata": {},
   "outputs": [
    {
     "name": "stderr",
     "output_type": "stream",
     "text": [
      "C:\\ProgramData\\Anaconda3\\lib\\site-packages\\sklearn\\ensemble\\weight_boosting.py:29: DeprecationWarning: numpy.core.umath_tests is an internal NumPy module and should not be imported. It will be removed in a future NumPy release.\n",
      "  from numpy.core.umath_tests import inner1d\n"
     ]
    },
    {
     "data": {
      "text/plain": [
       "RandomForestClassifier(bootstrap=True, class_weight=None, criterion='gini',\n",
       "            max_depth=None, max_features='auto', max_leaf_nodes=None,\n",
       "            min_impurity_decrease=0.0, min_impurity_split=None,\n",
       "            min_samples_leaf=1, min_samples_split=2,\n",
       "            min_weight_fraction_leaf=0.0, n_estimators=500, n_jobs=1,\n",
       "            oob_score=False, random_state=42, verbose=0, warm_start=False)"
      ]
     },
     "execution_count": 11,
     "metadata": {},
     "output_type": "execute_result"
    }
   ],
   "source": [
    "from sklearn.ensemble import RandomForestClassifier\n",
    "from sklearn.model_selection import train_test_split\n",
    "\n",
    "X = df_wo.values\n",
    "y = df['target'].values\n",
    "features = df_wo.columns\n",
    "forest = RandomForestClassifier(n_estimators=500,random_state=42)\n",
    "X_train, X_test, y_train, y_test = train_test_split(X, y, test_size = .2, \n",
    "                                                                random_state = 42)\n",
    "\n",
    "forest.fit(X_train, y_train)"
   ]
  },
  {
   "cell_type": "code",
   "execution_count": 12,
   "metadata": {},
   "outputs": [
    {
     "name": "stdout",
     "output_type": "stream",
     "text": [
      " 1) Shots_on_target_home           0.071977\n",
      " 2) Shots_on_target_away           0.064050\n",
      " 3) Clearances_away                0.060091\n",
      " 4) Clearances_home                0.050541\n",
      " 5) Expenditures_home              0.036953\n",
      " 6) Expenditures_away              0.036937\n",
      " 7) Passes_away                    0.035908\n",
      " 8) Passes_home                    0.035453\n",
      " 9) Touches_away                   0.034935\n",
      "10) Income_away                    0.034511\n",
      "11) Touches_home                   0.032524\n",
      "12) Income_home                    0.032445\n",
      "13) Shots_away                     0.030705\n",
      "14) Shots_home                     0.030670\n",
      "15) Tackles_away                   0.029061\n",
      "16) Possession_home                0.028453\n",
      "17) Possession_away                0.028400\n",
      "18) Tackles_home                   0.028019\n",
      "19) Arrivals_away                  0.027298\n",
      "20) Departures_away                0.026721\n",
      "21) Departures_home                0.026153\n",
      "22) Arrivals_home                  0.026120\n",
      "23) Fouls_conceded_away            0.025017\n",
      "24) Fouls_conceded_home            0.024685\n",
      "25) Corners_home                   0.023142\n",
      "26) Corners_away                   0.022202\n",
      "27) year                           0.019408\n",
      "28) Offsides_home                  0.019278\n",
      "29) Offsides_away                  0.018124\n",
      "30) Yellow_cards_home              0.017147\n",
      "31) Yellow_cards_away              0.015723\n",
      "32) Red_cards_home                 0.004419\n",
      "33) Red_cards_away                 0.002930\n"
     ]
    }
   ],
   "source": [
    "importances = forest.feature_importances_\n",
    "indices = np.argsort(importances)[::-1]\n",
    "indices\n",
    "for f in range(X_train.shape[1]):\n",
    "    print(\"%2d) %-*s %f\" % (f + 1, 30,features[indices[f]], importances[indices[f]]))"
   ]
  },
  {
   "cell_type": "markdown",
   "metadata": {},
   "source": [
    "### Feature selection with Sequential Backward Selection (SBS)"
   ]
  },
  {
   "cell_type": "code",
   "execution_count": 13,
   "metadata": {},
   "outputs": [],
   "source": [
    "from SBS import *"
   ]
  },
  {
   "cell_type": "code",
   "execution_count": 15,
   "metadata": {},
   "outputs": [
    {
     "data": {
      "text/plain": [
       "<SBS.SBS at 0x22b1904b940>"
      ]
     },
     "execution_count": 15,
     "metadata": {},
     "output_type": "execute_result"
    }
   ],
   "source": [
    "import matplotlib.pyplot as plt\n",
    "from sklearn.neighbors import KNeighborsClassifier\n",
    "\n",
    "knn = KNeighborsClassifier(n_neighbors=5)\n",
    "sbs = SBS(knn, k_features=1)\n",
    "sbs.fit(X_train, y_train)"
   ]
  },
  {
   "cell_type": "code",
   "execution_count": 16,
   "metadata": {},
   "outputs": [
    {
     "data": {
      "image/png": "[encoded data removed]",
      "text/plain": [
       "<Figure size 432x288 with 1 Axes>"
      ]
     },
     "metadata": {
      "needs_background": "light"
     },
     "output_type": "display_data"
    }
   ],
   "source": [
    "k_feat = [len(k) for k in sbs.subsets_]\n",
    "plt.plot(k_feat, sbs.scores_, marker='o')\n",
    "#plt.ylim([0.3, 1.02])\n",
    "plt.ylabel('Accuracy')\n",
    "plt.xlabel('Number of features')\n",
    "plt.grid()\n",
    "plt.show()"
   ]
  },
  {
   "cell_type": "markdown",
   "metadata": {},
   "source": [
    "With KNN, the least number of features that has the best accuracy is 14. They are identified as:"
   ]
  },
  {
   "cell_type": "code",
   "execution_count": 17,
   "metadata": {},
   "outputs": [
    {
     "name": "stdout",
     "output_type": "stream",
     "text": [
      "0 Touches_home\n",
      "1 Touches_away\n",
      "2 Passes_home\n",
      "3 Passes_away\n",
      "4 Clearances_away\n",
      "5 Fouls_conceded_away\n",
      "6 Expenditures_home\n",
      "7 Arrivals_home\n",
      "8 Income_home\n",
      "9 Departures_home\n",
      "10 Expenditures_away\n",
      "11 Arrivals_away\n",
      "12 Income_away\n",
      "13 Departures_away\n"
     ]
    }
   ],
   "source": [
    "k14 = list(sbs.subsets_[19])\n",
    "for idx, i in enumerate(k14):\n",
    "    print(idx,features[i])"
   ]
  },
  {
   "cell_type": "markdown",
   "metadata": {},
   "source": [
    "#### Checking the performance of the selected features\n",
    "It seems like using the selected features can improve test accuracy for KNN classifier"
   ]
  },
  {
   "cell_type": "code",
   "execution_count": 18,
   "metadata": {},
   "outputs": [
    {
     "name": "stdout",
     "output_type": "stream",
     "text": [
      "Training accuracy: 0.634742041712404\n",
      "Test accuracy: 0.4583333333333333\n"
     ]
    }
   ],
   "source": [
    "knn.fit(X_train, y_train)\n",
    "print('Training accuracy:', knn.score(X_train, y_train))\n",
    "print('Test accuracy:', knn.score(X_test, y_test))"
   ]
  },
  {
   "cell_type": "code",
   "execution_count": 19,
   "metadata": {},
   "outputs": [
    {
     "name": "stdout",
     "output_type": "stream",
     "text": [
      "Training accuracy: 0.6309001097694841\n",
      "Test accuracy: 0.6309001097694841\n"
     ]
    }
   ],
   "source": [
    "knn.fit(X_train[:, k14], y_train)\n",
    "print('Training accuracy:', knn.score(X_train[:, k14], y_train))\n",
    "print('Test accuracy:', knn.score(X_train[:, k14], y_train))"
   ]
  },
  {
   "cell_type": "markdown",
   "metadata": {},
   "source": [
    "### Feature extraction with PCA"
   ]
  },
  {
   "cell_type": "code",
   "execution_count": 20,
   "metadata": {},
   "outputs": [],
   "source": [
    "from PlotDecisionRegions import *"
   ]
  },
  {
   "cell_type": "code",
   "execution_count": 21,
   "metadata": {},
   "outputs": [],
   "source": [
    "from sklearn.preprocessing import StandardScaler\n",
    "sc = StandardScaler()\n",
    "X_train_std = sc.fit_transform(X_train)\n",
    "X_test_std = sc.transform(X_test)"
   ]
  },
  {
   "cell_type": "code",
   "execution_count": 23,
   "metadata": {},
   "outputs": [
    {
     "data": {
      "text/plain": [
       "array([1.92365738e-01, 1.01847316e-01, 6.17349350e-02, 5.90731716e-02,\n",
       "       5.63889391e-02, 4.89937392e-02, 3.99217670e-02, 3.75389709e-02,\n",
       "       3.47937305e-02, 3.28452200e-02, 3.19716300e-02, 3.09245616e-02,\n",
       "       2.95991258e-02, 2.76748713e-02, 2.61994774e-02, 2.41794810e-02,\n",
       "       2.10571606e-02, 2.00634511e-02, 1.79093922e-02, 1.67850906e-02,\n",
       "       1.51713887e-02, 1.27007357e-02, 1.20864463e-02, 1.09779651e-02,\n",
       "       9.88015205e-03, 7.87694844e-03, 7.44369955e-03, 3.88742932e-03,\n",
       "       3.83036064e-03, 2.50831363e-03, 1.07679495e-03, 5.38443193e-04,\n",
       "       1.53553289e-04])"
      ]
     },
     "execution_count": 23,
     "metadata": {},
     "output_type": "execute_result"
    }
   ],
   "source": [
    "from sklearn.decomposition import PCA\n",
    "\n",
    "pca = PCA()\n",
    "X_train_pca = pca.fit_transform(X_train_std)\n",
    "pca.explained_variance_ratio_"
   ]
  },
  {
   "cell_type": "code",
   "execution_count": 25,
   "metadata": {},
   "outputs": [
    {
     "data": {
      "image/png": "[encoded data removed]",
      "text/plain": [
       "<Figure size 432x288 with 1 Axes>"
      ]
     },
     "metadata": {
      "needs_background": "light"
     },
     "output_type": "display_data"
    }
   ],
   "source": [
    "plt.bar(range(1, 34), pca.explained_variance_ratio_, alpha=0.5, align='center')\n",
    "plt.step(range(1, 34), np.cumsum(pca.explained_variance_ratio_), where='mid')\n",
    "plt.ylabel('Explained variance ratio')\n",
    "plt.xlabel('Principal components')\n",
    "plt.show()"
   ]
  },
  {
   "cell_type": "code",
   "execution_count": null,
   "metadata": {},
   "outputs": [],
   "source": [
    "from sklearn.linear_model import LogisticRegression\n",
    "from sklearn.decomposition import PCA\n",
    "pca = PCA(n_components=2)\n",
    "lr = LogisticRegression()\n",
    "X_train_pca = pca.fit_transform(X_train)\n",
    "X_test_pca = pca.transform(X_test)\n",
    "lr.fit(X_train_pca, y_train)\n",
    "# plot_decision_regions(X_train_pca, y_train, classifier=lr)\n",
    "# plt.xlabel('PC 1')\n",
    "# plt.ylabel('PC 2')\n",
    "# plt.legend(loc='lower left')\n",
    "# plt.show()"
   ]
  },
  {
   "cell_type": "markdown",
   "metadata": {},
   "source": [
    "### Feature extraction with LDA"
   ]
  },
  {
   "cell_type": "code",
   "execution_count": 26,
   "metadata": {},
   "outputs": [],
   "source": [
    "from sklearn.discriminant_analysis import LinearDiscriminantAnalysis as LDA\n",
    "lda = LDA(n_components=2)\n",
    "X_train_lda = lda.fit_transform(X_train_std, y_train)"
   ]
  },
  {
   "cell_type": "code",
   "execution_count": 27,
   "metadata": {},
   "outputs": [],
   "source": [
    "from sklearn.linear_model import LogisticRegression\n",
    "lr = LogisticRegression()\n",
    "lr = lr.fit(X_train_lda, y_train)\n",
    "# plot_decision_regions(X_train_lda, y_train, classifier=lr)\n",
    "# plt.xlabel('LD 1')\n",
    "# plt.ylabel('LD 2')\n",
    "# plt.legend(loc='lower left')\n",
    "# plt.tight_layout()\n",
    "# # plt.savefig('./images/lda3.png', dpi=300)\n",
    "# plt.show()"
   ]
  },
  {
   "cell_type": "markdown",
   "metadata": {},
   "source": [
    "### Feature extraction with KPCA"
   ]
  },
  {
   "cell_type": "code",
   "execution_count": 28,
   "metadata": {},
   "outputs": [],
   "source": [
    "from sklearn.decomposition import KernelPCA\n",
    "scikit_kpca = KernelPCA(n_components=2, kernel='rbf', gamma=15)\n",
    "\n",
    "X_skernpca = scikit_kpca.fit_transform(X)\n",
    "\n",
    "# plt.scatter(X_skernpca[y == 0, 0], X_skernpca[y == 0, 1],\n",
    "#             color='red', marker='^', alpha=0.5)\n",
    "# plt.scatter(X_skernpca[y == 1, 0], X_skernpca[y == 1, 1],\n",
    "#             color='blue', marker='o', alpha=0.5)\n",
    "\n",
    "# plt.xlabel('PC1')\n",
    "# plt.ylabel('PC2')\n",
    "# plt.tight_layout()\n",
    "# # plt.savefig('./figures/scikit_kpca.png', dpi=300)\n",
    "# plt.show()"
   ]
  },
  {
   "cell_type": "markdown",
   "metadata": {},
   "source": [
    "## Modeling"
   ]
  },
  {
   "cell_type": "code",
   "execution_count": null,
   "metadata": {},
   "outputs": [],
   "source": [
    "from sklearn.linear_model import LogisticRegression\n",
    "from sklearn.neighbors import KNeighborsClassifier\n",
    "from sklearn.ensemble import RandomForestClassifier, GradientBoostingClassifier\n",
    "from sklearn.model_selection import train_test_split"
   ]
  },
  {
   "cell_type": "code",
   "execution_count": null,
   "metadata": {},
   "outputs": [],
   "source": [
    "clfs = [LogisticRegression(), RandomForestClassifier(), GradientBoostingClassifier(),\n",
    "        KNeighborsClassifier()]"
   ]
  },
  {
   "cell_type": "code",
   "execution_count": null,
   "metadata": {},
   "outputs": [],
   "source": [
    "X = df_wo.values\n",
    "df_form.drop(columns = ['home_form_linear', 'away_form_linear'], inplace = True)\n",
    "X_form = df_form.values\n",
    "y = df['target'].values\n",
    "\n",
    "X_train, X_test, y_train, y_test = train_test_split(X, y, test_size = .2)\n",
    "X_train_form, X_test_form, y_train_form, y_test_form = train_test_split(X_form, y, test_size = .2)"
   ]
  },
  {
   "cell_type": "code",
   "execution_count": null,
   "metadata": {},
   "outputs": [],
   "source": [
    "for clf in clfs:\n",
    "    clf.fit(X_train, y_train)\n",
    "    print(type(clf))\n",
    "    print(\"score = \", clf.score(X_test, y_test), \"\\n\")"
   ]
  },
  {
   "cell_type": "code",
   "execution_count": null,
   "metadata": {},
   "outputs": [],
   "source": [
    "for clf in clfs:\n",
    "    clf.fit(X_train_form, y_train_form)\n",
    "    print(type(clf))\n",
    "    print(\"score = \", clf.score(X_test_form, y_test_form), \"\\n\")"
   ]
  },
  {
   "cell_type": "markdown",
   "metadata": {},
   "source": [
    "### Coefficient Investigation"
   ]
  },
  {
   "cell_type": "code",
   "execution_count": null,
   "metadata": {},
   "outputs": [],
   "source": [
    "# change to clfs[i]\n",
    "for i, feature in enumerate(list(df_wo)):\n",
    "    print(feature, \": \", lr.coef_[:,i])"
   ]
  },
  {
   "cell_type": "markdown",
   "metadata": {},
   "source": [
    "### Variance Inflation"
   ]
  },
  {
   "cell_type": "markdown",
   "metadata": {},
   "source": [
    "### Pipeline"
   ]
  },
  {
   "cell_type": "code",
   "execution_count": null,
   "metadata": {},
   "outputs": [],
   "source": [
    "from sklearn.preprocessing import StandardScaler\n",
    "from sklearn.decomposition import PCA\n",
    "from sklearn.linear_model import LogisticRegression\n",
    "from sklearn.pipeline import make_pipeline\n",
    "\n",
    "pipe_lr = make_pipeline(StandardScaler(),\n",
    "                        PCA(n_components=2),\n",
    "                        LogisticRegression(random_state=1))\n",
    "\n",
    "pipe_lr.fit(X_train, y_train)\n",
    "y_pred = pipe_lr.predict(X_test)\n",
    "print('Test Accuracy: %.3f' % pipe_lr.score(X_test, y_test))"
   ]
  },
  {
   "cell_type": "code",
   "execution_count": null,
   "metadata": {},
   "outputs": [],
   "source": [
    "from sklearn.model_selection import cross_val_score\n",
    "scores = cross_val_score(estimator=pipe_lr,\n",
    "                         X= X_train, y = y_train, cv = 10)\n",
    "print('CV accuracy: %.3f +/- %.3f' % (np.mean(scores), np.std(scores)))"
   ]
  },
  {
   "cell_type": "markdown",
   "metadata": {},
   "source": [
    "### Grid Search"
   ]
  },
  {
   "cell_type": "code",
   "execution_count": null,
   "metadata": {},
   "outputs": [],
   "source": [
    "from sklearn.model_selection import GridSearchCV\n",
    "from sklearn.svm import SVC\n",
    "\n",
    "pipe_svc = make_pipeline(StandardScaler(),SVC(random_state=1))\n",
    "\n",
    "param_range = [0.0001, 0.001, 0.01, 0.1, 1.0, 10.0, 100.0, 1000.0]\n",
    "\n",
    "param_grid = [{'svc__C': param_range,\n",
    "                'svc__kernel': ['linear']},\n",
    "            {'svc__C': param_range,\n",
    "                'svc__gamma': param_range,\n",
    "                'svc__kernel': ['rbf']}]\n",
    "\n",
    "gs = GridSearchCV(estimator=pipe_svc, \n",
    "                  param_grid=param_grid, \n",
    "                  scoring='accuracy', \n",
    "                  cv=10)\n",
    "\n",
    "gs = gs.fit(X_train, y_train)\n",
    "print(gs.best_score_)\n",
    "print(gs.best_params_)                         "
   ]
  },
  {
   "cell_type": "code",
   "execution_count": null,
   "metadata": {},
   "outputs": [],
   "source": [
    "clf = gs.best_estimator_\n",
    "clf.fit(X_train, y_train)\n",
    "print('Test accuracy: %.3f' % clf.score(X_test, y_test))"
   ]
  },
  {
   "cell_type": "code",
   "execution_count": null,
   "metadata": {},
   "outputs": [],
   "source": [
    "from sklearn.tree import DecisionTreeClassifier\n",
    "\n",
    "gs = GridSearchCV(estimator=DecisionTreeClassifier(random_state=0),\n",
    "                  param_grid=[{'max_depth': [1, 2, 3, 4, 5, 6, 7, None]}],\n",
    "                  scoring='accuracy',\n",
    "                  cv=2)\n",
    "\n",
    ">>> scores = cross_val_score(gs, X_train, y_train,\n",
    "...                          scoring='accuracy', cv=5)\n",
    ">>> print('CV accuracy: %.3f +/- %.3f' % (np.mean(scores),\n",
    "...                                       np.std(scores)))\n",
    "CV accuracy: 0.934 +/- 0.016"
   ]
  }
 ],
 "metadata": {
  "kernelspec": {
   "display_name": "Python 3",
   "language": "python",
   "name": "python3"
  },
  "language_info": {
   "codemirror_mode": {
    "name": "ipython",
    "version": 3
   },
   "file_extension": ".py",
   "mimetype": "text/x-python",
   "name": "python",
   "nbconvert_exporter": "python",
   "pygments_lexer": "ipython3",
   "version": "3.7.0"
  }
 },
 "nbformat": 4,
 "nbformat_minor": 2
}

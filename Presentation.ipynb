{
 "cells": [
  {
   "attachments": {},
   "cell_type": "markdown",
   "metadata": {},
   "source": [
    "# Predicting English Premier League match results with Machine Learning\n",
    "#### Tony Hoang and Thomas Duffy"
   ]
  },
  {
   "attachments": {},
   "cell_type": "markdown",
   "metadata": {},
   "source": [
    "# Introduction <a name=\"introduction\"></a>\n",
    "The English Premier League is the most-watched professional soccer league on the planet, with an estimated audience figure of 12 million people per game. In comparison, its closest rival, Spain’s La Liga draws an average of just over 2 million fans per game.\n",
    "\n",
    "In EPL, there are 20 teams that contest for the first place. The winner is the team that has the most points at the end of the season, with 3 points are awarded for a win, one point for a draw and none for a defeat. The bottom three teams are relegated and replaced by other teams from lower leagues who perform better. Each team plays every other team twice, once at home and once away. Thus, there are a total of 380 games per season. A season runs from August to May of the following year. \n",
    "\n",
    "In this project, we want to predict the results of soccer matches using machine learning algorithms. First, it is crucial to choose features that seem to be significant and analyze their influence on match outcomes. From literature reference and our own intuition, we create a set of 17 features that includes individual match statistics like `Score`, `Corners`, `Shots on target`, `Posessions`, etc., and season long statistics for teams such as `Expenditures`, `Income`, `Departure` and `Arrival`, which reflect their investment and squad change every year. `Score` (goal) is an obvious choice as they determine which team wins, and is used to create our target variable. As for other features, they are indicators for how well a team play and can translate to a high probability of goals being scored. Based on the data that we have, we also develop a new feature `Form`, which is a measure of the “streakiness” of a team. Each feature is available for both teams, home and away.\n",
    "\n",
    "The predicting features will be fed as inputs to Machine Learning classifier algorithms such as `Logistic Regression` (LR), `K-Nearest Neighbors` (KNN), `Gradient Boosting` (GB), `Support Vector Machine` (SVM) and `Random Forest` (RF). The prediction is in one of three classes for each game, with respective to the home team: win, draw, or loss. To improve model performance, we implement various techniques such as `Sequential Backward Selection` (SBS) for features selection, or `Principal Component Analysis` (PCA) for feature extractions, and cross-validation for model evaluation & selection.  \n",
    "\n",
    "After our model analysis and selection, we take a step further and simulate the last season (`2018`) using data from the previous 9 seasons. Instead of just predicting the outcome each game for the home team with a classifier, we build a model to generated synthetic match statistics, and use those to calculate expected goal for both teams per match. Our prediction of the final team standing has a good accuracy when comparing to the final official result, which can be found [here](https://www.skysports.com/premier-league-table/2017). We correctly pick the league winner, and strongly believe that investment money has a significant influence in the league outcome of a team.\n",
    "\n",
    "**References**\n",
    "* [Premier league official website (2007-2018](https://www.premierleague.com/results?co=1&se=23&cl=-1)\n",
    "* [Team investment spending data](https://www.transfermarkt.us/premier-league/einnahmenausgaben/wettbewerb/GB1)\n",
    "* [Kaggle EPL data (1993 - 2018)](https://www.kaggle.com/thefc17/epl-results-19932018/kernels)\n",
    "* [Official EPL standing in 2018](https://www.skysports.com/premier-league-table/2017)\n",
    "* [Albina Yezus - Predicting the outcome of English Premier League games using machine learning](https://pdfs.semanticscholar.org/7d1f/8ff04a87b29eddc8eb84300d98d7dd3ffe30.pdf)\n",
    "* [Ben Ulmer & Matthew Fernandez - Predicting Soccer Match Results in the English\n",
    "Premier League](http://cs229.stanford.edu/proj2014/Ben%20Ulmer,%20Matt%20Fernandez,%20Predicting%20Soccer%20Results%20in%20the%20English%20Premier%20League.pdf)\n",
    "* [Sourabh Swain & Shriya Mishra - Data Science Approach to Predict the Outcome of a Football Match](https://www.ijcseonline.org/pdf_paper_view.php?paper_id=1857&20-IJCSE-02970.pdf)\n",
    "\n"
   ]
  },
  {
   "cell_type": "markdown",
   "metadata": {},
   "source": [
    "## Model Overview <a name=\"model-overview\"></a>\n",
    "In the hopes of predicting the outcome of individual games, we considered data from the Premier League's official website on game-level statistics and aggregated financial information regarding teams transfer business. \n",
    "\n",
    "### Multi-class Model\n",
    "Firstly, we consider a simple multi-class model where for each game there were 3 potential outcomes ($y$) where\n",
    "\n",
    "$$\n",
    "y = \\cases{-1 \\,if\\,away\\,team\\,wins\\\\ \n",
    "            0 \\,draw\\\\\n",
    "            1 \\,if\\,home\\,team\\,wins}\n",
    "$$\n",
    "\n",
    "This is a transformed variable that we will calculate using a `score_to_win()` function provided in our `helper` suite. \n",
    "\n",
    "#### Prepare Data"
   ]
  },
  {
   "cell_type": "code",
   "execution_count": 1,
   "metadata": {},
   "outputs": [],
   "source": [
    "import pandas as pd\n",
    "from helpers import *\n",
    "%matplotlib inline\n",
    "\n",
    "# to supress warnings\n",
    "import warnings\n",
    "warnings.filterwarnings('ignore')"
   ]
  },
  {
   "cell_type": "code",
   "execution_count": 2,
   "metadata": {},
   "outputs": [
    {
     "data": {
      "text/html": [
       "<div>\n",
       "<style scoped>\n",
       "    .dataframe tbody tr th:only-of-type {\n",
       "        vertical-align: middle;\n",
       "    }\n",
       "\n",
       "    .dataframe tbody tr th {\n",
       "        vertical-align: top;\n",
       "    }\n",
       "\n",
       "    .dataframe thead th {\n",
       "        text-align: right;\n",
       "    }\n",
       "</style>\n",
       "<table border=\"1\" class=\"dataframe\">\n",
       "  <thead>\n",
       "    <tr style=\"text-align: right;\">\n",
       "      <th></th>\n",
       "      <th>MatchID</th>\n",
       "      <th>Home_team</th>\n",
       "      <th>Away_team</th>\n",
       "      <th>Score_home</th>\n",
       "      <th>Score_away</th>\n",
       "      <th>Possession_home</th>\n",
       "      <th>Possession_away</th>\n",
       "      <th>Shots_on_target_home</th>\n",
       "      <th>Shots_on_target_away</th>\n",
       "      <th>Shots_home</th>\n",
       "      <th>...</th>\n",
       "      <th>year</th>\n",
       "      <th>Expenditures_home</th>\n",
       "      <th>Arrivals_home</th>\n",
       "      <th>Income_home</th>\n",
       "      <th>Departures_home</th>\n",
       "      <th>Expenditures_away</th>\n",
       "      <th>Arrivals_away</th>\n",
       "      <th>Income_away</th>\n",
       "      <th>Departures_away</th>\n",
       "      <th>target</th>\n",
       "    </tr>\n",
       "  </thead>\n",
       "  <tbody>\n",
       "    <tr>\n",
       "      <th>373</th>\n",
       "      <td>5567</td>\n",
       "      <td>Arsenal</td>\n",
       "      <td>Aston Villa</td>\n",
       "      <td>1</td>\n",
       "      <td>1</td>\n",
       "      <td>72.9</td>\n",
       "      <td>27.1</td>\n",
       "      <td>7</td>\n",
       "      <td>3</td>\n",
       "      <td>24</td>\n",
       "      <td>...</td>\n",
       "      <td>2007</td>\n",
       "      <td>17.10</td>\n",
       "      <td>18</td>\n",
       "      <td>14.85</td>\n",
       "      <td>21</td>\n",
       "      <td>28.16</td>\n",
       "      <td>17</td>\n",
       "      <td>2.08</td>\n",
       "      <td>18</td>\n",
       "      <td>0</td>\n",
       "    </tr>\n",
       "    <tr>\n",
       "      <th>379</th>\n",
       "      <td>5568</td>\n",
       "      <td>Bolton</td>\n",
       "      <td>Spurs</td>\n",
       "      <td>2</td>\n",
       "      <td>0</td>\n",
       "      <td>37.8</td>\n",
       "      <td>62.2</td>\n",
       "      <td>4</td>\n",
       "      <td>2</td>\n",
       "      <td>13</td>\n",
       "      <td>...</td>\n",
       "      <td>2007</td>\n",
       "      <td>19.38</td>\n",
       "      <td>16</td>\n",
       "      <td>4.39</td>\n",
       "      <td>16</td>\n",
       "      <td>69.54</td>\n",
       "      <td>23</td>\n",
       "      <td>44.06</td>\n",
       "      <td>23</td>\n",
       "      <td>1</td>\n",
       "    </tr>\n",
       "    <tr>\n",
       "      <th>374</th>\n",
       "      <td>5569</td>\n",
       "      <td>Everton</td>\n",
       "      <td>Watford</td>\n",
       "      <td>2</td>\n",
       "      <td>1</td>\n",
       "      <td>47.0</td>\n",
       "      <td>53.0</td>\n",
       "      <td>2</td>\n",
       "      <td>7</td>\n",
       "      <td>8</td>\n",
       "      <td>...</td>\n",
       "      <td>2007</td>\n",
       "      <td>20.41</td>\n",
       "      <td>11</td>\n",
       "      <td>2.85</td>\n",
       "      <td>16</td>\n",
       "      <td>11.97</td>\n",
       "      <td>29</td>\n",
       "      <td>15.39</td>\n",
       "      <td>23</td>\n",
       "      <td>1</td>\n",
       "    </tr>\n",
       "    <tr>\n",
       "      <th>375</th>\n",
       "      <td>5570</td>\n",
       "      <td>Newcastle</td>\n",
       "      <td>Wigan</td>\n",
       "      <td>2</td>\n",
       "      <td>1</td>\n",
       "      <td>55.3</td>\n",
       "      <td>44.7</td>\n",
       "      <td>5</td>\n",
       "      <td>4</td>\n",
       "      <td>8</td>\n",
       "      <td>...</td>\n",
       "      <td>2007</td>\n",
       "      <td>36.34</td>\n",
       "      <td>8</td>\n",
       "      <td>12.74</td>\n",
       "      <td>14</td>\n",
       "      <td>29.24</td>\n",
       "      <td>23</td>\n",
       "      <td>27.73</td>\n",
       "      <td>25</td>\n",
       "      <td>1</td>\n",
       "    </tr>\n",
       "    <tr>\n",
       "      <th>376</th>\n",
       "      <td>5571</td>\n",
       "      <td>Portsmouth</td>\n",
       "      <td>Blackburn</td>\n",
       "      <td>3</td>\n",
       "      <td>0</td>\n",
       "      <td>44.3</td>\n",
       "      <td>55.7</td>\n",
       "      <td>11</td>\n",
       "      <td>3</td>\n",
       "      <td>21</td>\n",
       "      <td>...</td>\n",
       "      <td>2007</td>\n",
       "      <td>10.37</td>\n",
       "      <td>28</td>\n",
       "      <td>1.43</td>\n",
       "      <td>32</td>\n",
       "      <td>18.84</td>\n",
       "      <td>21</td>\n",
       "      <td>19.28</td>\n",
       "      <td>25</td>\n",
       "      <td>1</td>\n",
       "    </tr>\n",
       "  </tbody>\n",
       "</table>\n",
       "<p>5 rows × 39 columns</p>\n",
       "</div>"
      ],
      "text/plain": [
       "     MatchID   Home_team    Away_team  Score_home  Score_away  \\\n",
       "373     5567     Arsenal  Aston Villa           1           1   \n",
       "379     5568      Bolton        Spurs           2           0   \n",
       "374     5569     Everton      Watford           2           1   \n",
       "375     5570   Newcastle        Wigan           2           1   \n",
       "376     5571  Portsmouth    Blackburn           3           0   \n",
       "\n",
       "     Possession_home  Possession_away  Shots_on_target_home  \\\n",
       "373             72.9             27.1                     7   \n",
       "379             37.8             62.2                     4   \n",
       "374             47.0             53.0                     2   \n",
       "375             55.3             44.7                     5   \n",
       "376             44.3             55.7                    11   \n",
       "\n",
       "     Shots_on_target_away  Shots_home   ...    year  Expenditures_home  \\\n",
       "373                     3          24   ...    2007              17.10   \n",
       "379                     2          13   ...    2007              19.38   \n",
       "374                     7           8   ...    2007              20.41   \n",
       "375                     4           8   ...    2007              36.34   \n",
       "376                     3          21   ...    2007              10.37   \n",
       "\n",
       "     Arrivals_home  Income_home  Departures_home  Expenditures_away  \\\n",
       "373             18        14.85               21              28.16   \n",
       "379             16         4.39               16              69.54   \n",
       "374             11         2.85               16              11.97   \n",
       "375              8        12.74               14              29.24   \n",
       "376             28         1.43               32              18.84   \n",
       "\n",
       "     Arrivals_away  Income_away  Departures_away  target  \n",
       "373             17         2.08               18       0  \n",
       "379             23        44.06               23       1  \n",
       "374             29        15.39               23       1  \n",
       "375             23        27.73               25       1  \n",
       "376             21        19.28               25       1  \n",
       "\n",
       "[5 rows x 39 columns]"
      ]
     },
     "execution_count": 2,
     "metadata": {},
     "output_type": "execute_result"
    }
   ],
   "source": [
    "DATA_SRC = '../Data/PL_site_2006_2018/masterdata.csv'\n",
    "df = pd.read_csv(DATA_SRC)\n",
    "\n",
    "# create win/lose label\n",
    "df['target'] = df[['Score_home', 'Score_away']].apply(score_to_win, axis = 1)\n",
    "df.sort_values('MatchID', inplace = True)\n",
    "df.head()"
   ]
  },
  {
   "cell_type": "markdown",
   "metadata": {},
   "source": [
    "In order to fit our model appropriately, we have to consider an $X$ matrix of values that has no information regarding our target variables. So, here we will drop the features that might provide the model information on $y$, i.e. `MatchID`, `Home_team`, `Away_team`, `Score_home`, `Score_away`, and `year` along with our `target`. "
   ]
  },
  {
   "cell_type": "code",
   "execution_count": 3,
   "metadata": {},
   "outputs": [],
   "source": [
    "FEATURES_TO_DROP = ['target', 'MatchID', 'Home_team', 'Away_team', 'Score_home', 'Score_away', 'year']\n",
    "df_wo = df.drop(columns = FEATURES_TO_DROP)"
   ]
  },
  {
   "cell_type": "markdown",
   "metadata": {},
   "source": [
    "### EDA\n",
    "Prior to setting up any model it's important to visualize the features of our data so that we can get a sense of what might work. Firstly, we'll visualize the pair-wise correlation of variables. Given that the game-stats are symmetric (each home & away team has a value) we'll just investigate the home-team features."
   ]
  },
  {
   "cell_type": "code",
   "execution_count": 4,
   "metadata": {},
   "outputs": [
    {
     "data": {
      "image/png": "[encoded data removed]",
      "text/plain": [
       "<Figure size 432x288 with 2 Axes>"
      ]
     },
     "metadata": {
      "needs_background": "light"
     },
     "output_type": "display_data"
    }
   ],
   "source": [
    "import seaborn as sns\n",
    "home_features = [ f for f in list(df) if '_home' in f ]\n",
    "corr = df[home_features].corr()\n",
    "_ = sns.heatmap(corr)"
   ]
  },
  {
   "cell_type": "markdown",
   "metadata": {},
   "source": [
    "Our target, `Score_home` seems to be most correlated with `Shots_on_target_home`. This makes some intuitive sense, the more shots you get on goal, obviously the more likely you are to score. Otherwise, it appears a lot of our other available variables are not too correlated with our target. There do appear to exist some groups of variables that may be capturing similar information. E.g. is `Posession_home` measuring anything different from `Touches_home`?\n",
    "\n",
    "Now, let's investigate their various distributions."
   ]
  },
  {
   "cell_type": "code",
   "execution_count": 5,
   "metadata": {},
   "outputs": [
    {
     "data": {
      "image/png": "[encoded data removed]",
      "text/plain": [
       "<Figure size 1080x1080 with 16 Axes>"
      ]
     },
     "metadata": {
      "needs_background": "light"
     },
     "output_type": "display_data"
    }
   ],
   "source": [
    "import matplotlib.pyplot as plt\n",
    "n_figs = len(home_features)\n",
    "columns = 4\n",
    "\n",
    "fig, axes = plt.subplots(int(n_figs/columns), columns, figsize = (15, 15))\n",
    "plt.subplots_adjust(hspace = .25)\n",
    "\n",
    "home_features = [ f for f in list(df_wo) if '_home' in f ]\n",
    "for i, feature in enumerate(home_features):\n",
    "    row = int(i / columns)\n",
    "    column = i % columns\n",
    "    axes[row, column].hist(df[feature].values)\n",
    "    axes[row, column].set_title(feature)"
   ]
  },
  {
   "cell_type": "markdown",
   "metadata": {},
   "source": [
    "What about the distribution of our target variable?"
   ]
  },
  {
   "cell_type": "code",
   "execution_count": 6,
   "metadata": {},
   "outputs": [
    {
     "data": {
      "image/png": "[encoded data removed]",
      "text/plain": [
       "<Figure size 432x288 with 1 Axes>"
      ]
     },
     "metadata": {
      "needs_background": "light"
     },
     "output_type": "display_data"
    }
   ],
   "source": [
    "_ = df.target.hist()"
   ]
  },
  {
   "cell_type": "markdown",
   "metadata": {},
   "source": [
    "Seems like being the home team within a specific game it crucial, so we'll need to remember that later when constructing our models.\n",
    "\n",
    "Now we said `Shots_on_target_home` contained some information regarding our target-by-proxy `Score_home`. Let's investigate that relationship."
   ]
  },
  {
   "cell_type": "code",
   "execution_count": 7,
   "metadata": {},
   "outputs": [
    {
     "data": {
      "image/png": "[encoded data removed]",
      "text/plain": [
       "<Figure size 360x360 with 6 Axes>"
      ]
     },
     "metadata": {
      "needs_background": "light"
     },
     "output_type": "display_data"
    }
   ],
   "source": [
    "_ = sns.pairplot(df[['Shots_on_target_home', 'Score_home']])"
   ]
  },
  {
   "cell_type": "markdown",
   "metadata": {},
   "source": [
    "# <a name = \"feature-selection\"></a> Feature Selection \n",
    "As established, we have a full set of features but should be concerned about potential overlap within that feature set. A model containing overlapping (collinear) features will be unnecessarily complex. This could lead to (1) higher out-of-sample error (i.e. on our testing set) and (2) a lack of interpretability for a null benefit. So, let's do some further investigation in the hopes that we can cull some features out of our model(s).\n",
    "\n",
    "## Feature Importance\n",
    "### Random Forest"
   ]
  },
  {
   "cell_type": "code",
   "execution_count": 8,
   "metadata": {},
   "outputs": [
    {
     "name": "stdout",
     "output_type": "stream",
     "text": [
      " 1) Shots_on_target_home           0.070598\n",
      " 2) Clearances_away                0.063984\n",
      " 3) Shots_on_target_away           0.061514\n",
      " 4) Clearances_home                0.050045\n",
      " 5) Expenditures_away              0.038348\n",
      " 6) Expenditures_home              0.037344\n",
      " 7) Passes_away                    0.037064\n",
      " 8) Touches_away                   0.036100\n",
      " 9) Passes_home                    0.035598\n",
      "10) Income_away                    0.035050\n",
      "11) Income_home                    0.034176\n",
      "12) Touches_home                   0.033785\n",
      "13) Shots_away                     0.031355\n",
      "14) Shots_home                     0.031181\n",
      "15) Possession_away                0.030172\n",
      "16) Possession_home                0.029506\n",
      "17) Tackles_home                   0.028810\n",
      "18) Arrivals_away                  0.028300\n",
      "19) Tackles_away                   0.028192\n",
      "20) Departures_home                0.027429\n",
      "21) Arrivals_home                  0.027124\n",
      "22) Departures_away                0.027055\n",
      "23) Fouls_conceded_away            0.025802\n",
      "24) Fouls_conceded_home            0.025243\n",
      "25) Corners_home                   0.023594\n",
      "26) Corners_away                   0.022912\n",
      "27) Offsides_home                  0.019200\n",
      "28) Offsides_away                  0.019017\n",
      "29) Yellow_cards_home              0.016967\n",
      "30) Yellow_cards_away              0.016089\n",
      "31) Red_cards_home                 0.005190\n",
      "32) Red_cards_away                 0.003256\n"
     ]
    }
   ],
   "source": [
    "from sklearn.ensemble import RandomForestClassifier\n",
    "from sklearn.model_selection import train_test_split\n",
    "\n",
    "X = df_wo.values\n",
    "y = df['target'].values\n",
    "features = df_wo.columns\n",
    "forest = RandomForestClassifier(n_estimators=500,random_state=42)\n",
    "X_train, X_test, y_train, y_test = train_test_split(X, y, test_size = .2, \n",
    "                                                                random_state = 42)\n",
    "\n",
    "forest.fit(X_train, y_train)\n",
    "\n",
    "importances = forest.feature_importances_\n",
    "indices = np.argsort(importances)[::-1]\n",
    "indices\n",
    "for f in range(X_train.shape[1]):\n",
    "    print(\"%2d) %-*s %f\" % (f + 1, 30,features[indices[f]], importances[indices[f]]))"
   ]
  },
  {
   "cell_type": "markdown",
   "metadata": {},
   "source": [
    "This confirms some of our former intuition. `Shots_on_target_*` are an important feature. Others, particularly `Expenditures_*`, are also noteworthy. Interestingly, all though `Red_cards_*` can adversely affect an outcome of a game, its lowest ranking in the above feature importance could be explained by the fact that such occasion happened so rare in a season."
   ]
  },
  {
   "cell_type": "markdown",
   "metadata": {},
   "source": [
    "### Sequential Backward Selection\n",
    "Now, let's perform some model fitting using Sequential Backward Selection (i.e. tossing out variables one at at time) to further investigate feature importance."
   ]
  },
  {
   "cell_type": "code",
   "execution_count": 13,
   "metadata": {},
   "outputs": [],
   "source": [
    "from SBS import *\n",
    "from sklearn.linear_model import LogisticRegression\n",
    "from sklearn.neighbors import KNeighborsClassifier\n",
    "from sklearn.ensemble import RandomForestClassifier, GradientBoostingClassifier\n",
    "from sklearn.model_selection import train_test_split\n",
    "from sklearn.preprocessing import StandardScaler"
   ]
  },
  {
   "cell_type": "code",
   "execution_count": 11,
   "metadata": {},
   "outputs": [],
   "source": [
    "lr = LogisticRegression()\n",
    "rf = RandomForestClassifier()\n",
    "gb = GradientBoostingClassifier()\n",
    "knn = KNeighborsClassifier()\n",
    "\n",
    "clf_labels = ['Logistic Regression', 'Random Forest', 'Gradient Boosting', 'KNN']\n",
    "\n",
    "all_clf = [lr, rf, gb, knn]"
   ]
  },
  {
   "cell_type": "code",
   "execution_count": 15,
   "metadata": {},
   "outputs": [
    {
     "data": {
      "image/png": "[encoded data removed]",
      "text/plain": [
       "<Figure size 432x288 with 1 Axes>"
      ]
     },
     "metadata": {
      "needs_background": "light"
     },
     "output_type": "display_data"
    },
    {
     "data": {
      "image/png": "[encoded data removed]",
      "text/plain": [
       "<Figure size 432x288 with 1 Axes>"
      ]
     },
     "metadata": {
      "needs_background": "light"
     },
     "output_type": "display_data"
    },
    {
     "data": {
      "image/png": "[encoded data removed]",
      "text/plain": [
       "<Figure size 432x288 with 1 Axes>"
      ]
     },
     "metadata": {
      "needs_background": "light"
     },
     "output_type": "display_data"
    },
    {
     "data": {
      "image/png": "[encoded data removed]",
      "text/plain": [
       "<Figure size 432x288 with 1 Axes>"
      ]
     },
     "metadata": {
      "needs_background": "light"
     },
     "output_type": "display_data"
    }
   ],
   "source": [
    "# NOTE: this step will take 10 minutes to run!\n",
    "import matplotlib.pyplot as plt\n",
    "\n",
    "k_feat = {key: None for key in clf_labels}\n",
    "sbs = {key: None for key in clf_labels}\n",
    "\n",
    "for label, clf in zip(clf_labels, all_clf):\n",
    "    sbs[label] = SBS(clf,k_features=1)\n",
    "    sbs[label].fit(X_train,y_train)\n",
    "    k_feat[label] = [len(k) for k in sbs[label].subsets_]\n",
    "    plt.plot(k_feat[label], sbs[label].scores_, marker='o')\n",
    "    #plt.ylim([0.3, 1.02])\n",
    "    plt.title(label)\n",
    "    plt.ylabel('Accuracy')\n",
    "    plt.xlabel('Number of features')\n",
    "    plt.grid()\n",
    "    plt.show()"
   ]
  },
  {
   "cell_type": "code",
   "execution_count": 18,
   "metadata": {},
   "outputs": [
    {
     "name": "stdout",
     "output_type": "stream",
     "text": [
      "List of 12 features that will achieve highest accuracy for Logistic Regression: \n",
      "\n",
      "0 Possession_home\n",
      "1 Possession_away\n",
      "2 Shots_on_target_home\n",
      "3 Shots_on_target_away\n",
      "4 Touches_away\n",
      "5 Passes_home\n",
      "6 Passes_away\n",
      "7 Clearances_home\n",
      "8 Clearances_away\n",
      "9 Red_cards_home\n",
      "10 Income_home\n",
      "11 Expenditures_away\n"
     ]
    }
   ],
   "source": [
    "print(\"List of 12 features that will achieve highest accuracy for Logistic Regression: \\n\")\n",
    "lr_features = list(sbs['Logistic Regression'].subsets_[20])\n",
    "for idx, i in enumerate(lr_features):\n",
    "    print(idx,features[i]) "
   ]
  },
  {
   "cell_type": "code",
   "execution_count": 19,
   "metadata": {},
   "outputs": [
    {
     "name": "stdout",
     "output_type": "stream",
     "text": [
      "List of 14 features that will achieve highest accuracy for Random Forest: \n",
      "\n",
      "0 Possession_away\n",
      "1 Shots_on_target_home\n",
      "2 Shots_on_target_away\n",
      "3 Shots_home\n",
      "4 Passes_home\n",
      "5 Passes_away\n",
      "6 Tackles_away\n",
      "7 Clearances_away\n",
      "8 Corners_home\n",
      "9 Corners_away\n",
      "10 Offsides_home\n",
      "11 Yellow_cards_home\n",
      "12 Yellow_cards_away\n",
      "13 Expenditures_home\n"
     ]
    }
   ],
   "source": [
    "print(\"List of 14 features that will achieve highest accuracy for Random Forest: \\n\")\n",
    "rf_features = list(sbs['Random Forest'].subsets_[18])\n",
    "for idx, i in enumerate(rf_features):\n",
    "    print(idx,features[i]) "
   ]
  },
  {
   "cell_type": "code",
   "execution_count": 27,
   "metadata": {},
   "outputs": [
    {
     "name": "stdout",
     "output_type": "stream",
     "text": [
      "Top 10 features that will achieve highest accuracy for Gradient Boosting: \n",
      "\n",
      "0 Possession_home\n",
      "1 Possession_away\n",
      "2 Shots_on_target_home\n",
      "3 Shots_on_target_away\n",
      "4 Shots_home\n",
      "5 Touches_home\n",
      "6 Touches_away\n",
      "7 Passes_away\n",
      "8 Tackles_home\n",
      "9 Tackles_away\n"
     ]
    }
   ],
   "source": [
    "print(\"Top 10 features that will achieve highest accuracy for Gradient Boosting: \\n\")\n",
    "gb_features = list(sbs['Gradient Boosting'].subsets_[6])[:10]\n",
    "for idx, i in enumerate(gb_features):\n",
    "    print(idx,features[i]) "
   ]
  },
  {
   "cell_type": "code",
   "execution_count": 23,
   "metadata": {},
   "outputs": [
    {
     "name": "stdout",
     "output_type": "stream",
     "text": [
      "List of 8 features that will achieve highest accuracy for K-Nearest Neighbors: \n",
      "\n",
      "0 Touches_away\n",
      "1 Tackles_home\n",
      "2 Clearances_home\n",
      "3 Clearances_away\n",
      "4 Arrivals_home\n",
      "5 Income_home\n",
      "6 Expenditures_away\n",
      "7 Arrivals_away\n"
     ]
    }
   ],
   "source": [
    "print(\"List of 8 features that will achieve highest accuracy for K-Nearest Neighbors: \\n\")\n",
    "knn_features = list(sbs['KNN'].subsets_[24])\n",
    "for idx, i in enumerate(knn_features):\n",
    "    print(idx,features[i]) "
   ]
  },
  {
   "cell_type": "markdown",
   "metadata": {},
   "source": [
    "Surprisingly,there is not much overlap much between the list of features. However, \n",
    "common ones that appear frequently in the lists are `Touches`, `Shots`, `Possession`, and `Expenditure`. These variables are expected in our final model."
   ]
  },
  {
   "cell_type": "markdown",
   "metadata": {},
   "source": [
    "## <a name = \"feature-selection\"></a> Feature Extraction \n",
    "By reducing the number of dimensions of our input, we can simplify our models and may achieve a better generalization performance. However, in all 3 cases that we test, we do not see a lot of benefits in transforming our data into a lesser dimensional space."
   ]
  },
  {
   "cell_type": "markdown",
   "metadata": {},
   "source": [
    "### PCA"
   ]
  },
  {
   "cell_type": "code",
   "execution_count": 29,
   "metadata": {},
   "outputs": [],
   "source": [
    "from PlotDecisionRegions import *\n",
    "from sklearn.preprocessing import StandardScaler\n",
    "from sklearn.decomposition import PCA\n",
    "\n",
    "sc = StandardScaler()\n",
    "X_train_std = sc.fit_transform(X_train)\n",
    "X_test_std = sc.transform(X_test)"
   ]
  },
  {
   "cell_type": "markdown",
   "metadata": {},
   "source": [
    "By looking at the below graph, we observe that with 16 principal components\n",
    "we can achieved an `explained variance ratio` of 80%. There are benefits to using less inputs than the original feature sets"
   ]
  },
  {
   "cell_type": "code",
   "execution_count": 30,
   "metadata": {},
   "outputs": [
    {
     "data": {
      "image/png": "[encoded data removed]",
      "text/plain": [
       "<Figure size 432x288 with 1 Axes>"
      ]
     },
     "metadata": {
      "needs_background": "light"
     },
     "output_type": "display_data"
    }
   ],
   "source": [
    "pca = PCA()\n",
    "X_train_pca = pca.fit_transform(X_train_std)\n",
    "X_test_pca = pca.fit_transform(X_test_std)\n",
    "# pca.explained_variance_ratio_\n",
    "plt.bar(range(1, 33), pca.explained_variance_ratio_, alpha=0.5, align='center')\n",
    "plt.step(range(1, 33), np.cumsum(pca.explained_variance_ratio_), where='mid')\n",
    "plt.ylabel('Explained variance ratio')\n",
    "plt.xlabel('Principal components')\n",
    "plt.show()"
   ]
  },
  {
   "cell_type": "markdown",
   "metadata": {},
   "source": [
    "Reducing dimensions using `PCA` does not help with model performance."
   ]
  },
  {
   "cell_type": "code",
   "execution_count": 41,
   "metadata": {},
   "outputs": [
    {
     "name": "stdout",
     "output_type": "stream",
     "text": [
      "Model:  Logistic Regression\n",
      "Score in original dimension space= : 0.6524122807017544\n",
      "Score in reduced dimension= : 0.6129385964912281 \n",
      "\n",
      "Model:  Random Forest\n",
      "Score in original dimension space= : 0.5723684210526315\n",
      "Score in reduced dimension= : 0.5504385964912281 \n",
      "\n",
      "Model:  Gradient Boosting\n",
      "Score in original dimension space= : 0.6359649122807017\n",
      "Score in reduced dimension= : 0.5866228070175439 \n",
      "\n",
      "Model:  KNN\n",
      "Score in original dimension space= : 0.47478070175438597\n",
      "Score in reduced dimension= : 0.5252192982456141 \n",
      "\n"
     ]
    }
   ],
   "source": [
    "pca = PCA(n_components = 15)\n",
    "\n",
    "X_train_pca = pca.fit_transform(X_train_std)\n",
    "X_test_pca = pca.transform(X_test_std)\n",
    "\n",
    "for label, clf in zip(clf_labels,all_clf):\n",
    "    print('Model: ',label)\n",
    "    model_full = clf.fit(X_train, y_train)\n",
    "    print(\"Score in original dimension space= :\",  model_full.score(X_test,y_test))\n",
    "    model_pca = clf.fit(X_train_pca, y_train)\n",
    "    print(\"Score in reduced dimension= :\",  model_pca.score(X_test_pca,y_test), \"\\n\")\n",
    "    "
   ]
  },
  {
   "cell_type": "markdown",
   "metadata": {},
   "source": [
    "### LDA"
   ]
  },
  {
   "cell_type": "markdown",
   "metadata": {},
   "source": [
    "Even when we consider the data labels when reducing the number of dimension with `LDA`, we also do not achieve much improvement with our model performance"
   ]
  },
  {
   "cell_type": "code",
   "execution_count": 42,
   "metadata": {},
   "outputs": [
    {
     "name": "stdout",
     "output_type": "stream",
     "text": [
      "Model:  Logistic Regression\n",
      "Score in original dimension space= : 0.6524122807017544\n",
      "Score in reduced dimension= : 0.6600877192982456 \n",
      "\n",
      "Model:  Random Forest\n",
      "Score in original dimension space= : 0.5822368421052632\n",
      "Score in reduced dimension= : 0.5646929824561403 \n",
      "\n",
      "Model:  Gradient Boosting\n",
      "Score in original dimension space= : 0.6359649122807017\n",
      "Score in reduced dimension= : 0.6447368421052632 \n",
      "\n",
      "Model:  KNN\n",
      "Score in original dimension space= : 0.47478070175438597\n",
      "Score in reduced dimension= : 0.5910087719298246 \n",
      "\n"
     ]
    }
   ],
   "source": [
    "from sklearn.discriminant_analysis import LinearDiscriminantAnalysis as LDA\n",
    "\n",
    "lda = LDA(n_components=2)\n",
    "\n",
    "X_train_lda = lda.fit_transform(X_train, y_train)\n",
    "X_test_lda = lda.transform(X_test)\n",
    "\n",
    "for label, clf in zip(clf_labels,all_clf):\n",
    "    print('Model: ',label)\n",
    "    model_full = clf.fit(X_train, y_train)\n",
    "    print(\"Score in original dimension space= :\",  model_full.score(X_test,y_test))\n",
    "    model_lda = clf.fit(X_train_lda, y_train)\n",
    "    print(\"Score in reduced dimension= :\",  model_lda.score(X_test_lda,y_test), \"\\n\")"
   ]
  },
  {
   "cell_type": "markdown",
   "metadata": {},
   "source": [
    "### KPCA\n",
    "\n",
    "Surprisingly, when we apply the kernel trick with `PCA`, our models performance seems to be worsen off."
   ]
  },
  {
   "cell_type": "code",
   "execution_count": 43,
   "metadata": {},
   "outputs": [
    {
     "name": "stdout",
     "output_type": "stream",
     "text": [
      "Model:  Logistic Regression\n",
      "Score in original dimension space= : 0.6524122807017544\n",
      "Score in reduced dimension= : 0.4649122807017544 \n",
      "\n",
      "Model:  Random Forest\n",
      "Score in original dimension space= : 0.5668859649122807\n",
      "Score in reduced dimension= : 0.4649122807017544 \n",
      "\n",
      "Model:  Gradient Boosting\n",
      "Score in original dimension space= : 0.6337719298245614\n",
      "Score in reduced dimension= : 0.4649122807017544 \n",
      "\n",
      "Model:  KNN\n",
      "Score in original dimension space= : 0.47478070175438597\n",
      "Score in reduced dimension= : 0.31030701754385964 \n",
      "\n"
     ]
    }
   ],
   "source": [
    "from sklearn.decomposition import KernelPCA\n",
    "\n",
    "kpca = KernelPCA(n_components=2, kernel='rbf', gamma=15)\n",
    "\n",
    "X_train_kpca = kpca.fit_transform(X_train)\n",
    "X_test_kpca = kpca.transform(X_test)\n",
    "\n",
    "for label, clf in zip(clf_labels,all_clf):\n",
    "    print('Model: ',label)\n",
    "    model_full = clf.fit(X_train, y_train)\n",
    "    print(\"Score in original dimension space= :\",  model_full.score(X_test,y_test))\n",
    "    model_kpca = clf.fit(X_train_kpca, y_train)\n",
    "    print(\"Score in reduced dimension= :\",  model_kpca.score(X_test_kpca,y_test), \"\\n\")"
   ]
  },
  {
   "cell_type": "markdown",
   "metadata": {},
   "source": [
    "### Feature Engineering\n",
    "#### Form\n",
    "Many commentators and pundits point to the importance of a team's form, that is the quality of their recent performances, as having some predictive (or at least intuitive) power in explaining their performance in an individual game. The thinking goes: a team that has played well recently should continue playing well and vice versa (perhaps due to confidence?). This is not unlike the \"hot-hand\" phenomenon which has been widely discussed in the statistical community, e.g. [here](https://www.thecut.com/2016/08/how-researchers-discovered-the-basketball-hot-hand.html) or [here](https://fivethirtyeight.com/features/baseballs-hot-hand-is-real/). We'll create a feature `form` that uses an exponential decay weight factor to see if such a concept can add predictive power to our models. In essence for a game at time `t` we'll use a scheme where:\n",
    "$$\n",
    "Form(t) = \\sum^t_{i=t-n}gd(i)*e^{-\\lambda(t-i)}\n",
    "$$\n",
    "\n",
    "Where $n$ is the initial window length. That is for the $i^{th}$ game in the past, using the goal difference, we can calculate the weight of that particular game."
   ]
  },
  {
   "cell_type": "code",
   "execution_count": 50,
   "metadata": {},
   "outputs": [],
   "source": [
    "scores = df[['MatchID', 'Home_team', 'Away_team', 'Score_home', 'Score_away']].values\n",
    "gd = gd_vectors(scores)\n",
    "\n",
    "away_form_exp, home_form_exp = [], []\n",
    "for game in scores:\n",
    "    id, home_team, away_team, _, _ = game\n",
    "    away_form_exp.append( exponential_momentum(id, away_team, gd, alpha = .65) )\n",
    "    home_form_exp.append( exponential_momentum(id, home_team, gd, alpha = .65) )\n",
    "\n",
    "df_form = df.copy()\n",
    "df_form['Form_away'] = pd.Series(away_form_exp)\n",
    "df_form['Form_home'] = pd.Series(home_form_exp)"
   ]
  },
  {
   "cell_type": "code",
   "execution_count": 51,
   "metadata": {},
   "outputs": [
    {
     "data": {
      "image/png": "[encoded data removed]",
      "text/plain": [
       "<Figure size 432x288 with 2 Axes>"
      ]
     },
     "metadata": {
      "needs_background": "light"
     },
     "output_type": "display_data"
    }
   ],
   "source": [
    "corr = df_form[['Score_home', 'Shots_on_target_home','Possession_home','Form_home']].corr()\n",
    "_ = sns.heatmap(corr)"
   ]
  },
  {
   "cell_type": "markdown",
   "metadata": {},
   "source": [
    "### Testing of Full Model\n",
    "Now, just for completeness and given we have a smaller dataset, we should fit a suite of full models and from there we can investigate potential performance gains. From the beginning we'll start with some general model and perform cross-validation & other steps later.\n",
    "\n",
    "Let's now compare the models with and without form side-by-side."
   ]
  },
  {
   "cell_type": "code",
   "execution_count": 52,
   "metadata": {},
   "outputs": [],
   "source": [
    "from sklearn.linear_model import LogisticRegression\n",
    "from sklearn.neighbors import KNeighborsClassifier\n",
    "from sklearn.naive_bayes import GaussianNB\n",
    "from sklearn.ensemble import RandomForestClassifier, GradientBoostingClassifier\n",
    "from sklearn.neural_network import MLPClassifier\n",
    "from sklearn.svm import SVC"
   ]
  },
  {
   "cell_type": "code",
   "execution_count": 53,
   "metadata": {},
   "outputs": [
    {
     "data": {
      "text/plain": [
       "{'LogisticRegression': [('score', 0.6524122807017544)],\n",
       " 'RandomForestClassifier': [('score', 0.6008771929824561)],\n",
       " 'GradientBoostingClassifier': [('score', 0.6359649122807017)],\n",
       " 'KNeighborsClassifier': [('score', 0.47478070175438597)],\n",
       " 'GaussianNB': [('score', 0.555921052631579)],\n",
       " 'MLPClassifier': [('score', 0.5701754385964912)],\n",
       " 'SVC': [('score', 0.4649122807017544)]}"
      ]
     },
     "execution_count": 53,
     "metadata": {},
     "output_type": "execute_result"
    }
   ],
   "source": [
    "clfs = [LogisticRegression(), RandomForestClassifier(), GradientBoostingClassifier(),\n",
    "        KNeighborsClassifier(), GaussianNB(), MLPClassifier(), SVC()]\n",
    "\n",
    "# first run without form feature\n",
    "X = df_wo.values\n",
    "y = df['target'].values\n",
    "\n",
    "run_model_diagnostics(X, y, clfs)"
   ]
  },
  {
   "cell_type": "code",
   "execution_count": 54,
   "metadata": {},
   "outputs": [
    {
     "data": {
      "text/plain": [
       "{'LogisticRegression': [('score', 0.6524122807017544)],\n",
       " 'RandomForestClassifier': [('score', 0.5646929824561403)],\n",
       " 'GradientBoostingClassifier': [('score', 0.6359649122807017)],\n",
       " 'KNeighborsClassifier': [('score', 0.47478070175438597)],\n",
       " 'GaussianNB': [('score', 0.555921052631579)],\n",
       " 'MLPClassifier': [('score', 0.4199561403508772)],\n",
       " 'SVC': [('score', 0.4649122807017544)]}"
      ]
     },
     "execution_count": 54,
     "metadata": {},
     "output_type": "execute_result"
    }
   ],
   "source": [
    "clfs = [LogisticRegression(), RandomForestClassifier(), GradientBoostingClassifier(),\n",
    "        KNeighborsClassifier(), GaussianNB(), MLPClassifier(), SVC()]\n",
    "\n",
    "df_form_dropped = df.drop(columns = FEATURES_TO_DROP)\n",
    "X = df_form_dropped.values\n",
    "y = df['target'].values\n",
    "\n",
    "run_model_diagnostics(X, y, clfs)"
   ]
  },
  {
   "cell_type": "markdown",
   "metadata": {},
   "source": [
    "No matter the model class, there is either a minimal difference or a negative impact (`RandomForest` and `MLP`). Given that both these models use some tree/graph structure it could be due to the proxying nature of the `form` feature and the others. So, going forward there does not seem to exist a benefit to including it.\n",
    "\n"
   ]
  },
  {
   "cell_type": "markdown",
   "metadata": {},
   "source": [
    "### Ensemble model\n",
    "\n",
    "What about an ensemble model that combine multiple independent classifiers?\n",
    "\n",
    "Our result tells us that it does not offer a better performance than our best classifier, \n",
    "`Logistic Regression`"
   ]
  },
  {
   "cell_type": "code",
   "execution_count": 55,
   "metadata": {},
   "outputs": [
    {
     "name": "stdout",
     "output_type": "stream",
     "text": [
      "Ensemble model performance:\n",
      "Accuracy: 0.62 (+/- 0.02)\n"
     ]
    }
   ],
   "source": [
    "from sklearn.model_selection import cross_val_score\n",
    "from sklearn.ensemble import VotingClassifier\n",
    "\n",
    "eclf = VotingClassifier(estimators=[('lr',LogisticRegression()), ('rf', RandomForestClassifier()), \n",
    "                                    ('gb',GradientBoostingClassifier()), ('gnb',GaussianNB())], voting='hard')\n",
    "\n",
    "scores = cross_val_score(estimator=eclf, X=X_train, y = y_train, cv= 10, scoring = 'accuracy')\n",
    "\n",
    "print(\"Ensemble model performance:\")\n",
    "print(\"Accuracy: %0.2f (+/- %0.2f)\"  % (scores.mean(), scores.std()))"
   ]
  },
  {
   "cell_type": "markdown",
   "metadata": {},
   "source": [
    "### Feature Set Reduction\n",
    "With all the above analysis, we can settle on our final feature list. We'll use this going forward in a somewhat different model. Again, this analysis is important because it allows us to simplify our model that will, likely, aid in avoiding making an unnecessarily complex model which will become more important once we begin simulating results on purely synthetic data."
   ]
  },
  {
   "cell_type": "markdown",
   "metadata": {},
   "source": [
    "## Expected Goals\n",
    "The real idea, here, though is to generate a model that predicts the number of goals scored by each team within a single game. From there, of course, we can make predictions about who will win. I.e. now the function of interest becomes:\n",
    "\n",
    "$$\n",
    "team\\,features\\mapsto goals\n",
    "$$\n",
    "\n",
    "We can consider both transfer market spending along with the game-level statistics discussed above as team features. These should (if our logic is sound) form a generating function for goals within a game. With such a function, we can make predictions and, even, simulations over a period of time."
   ]
  },
  {
   "cell_type": "code",
   "execution_count": 92,
   "metadata": {},
   "outputs": [
    {
     "data": {
      "image/png": "[encoded data removed]",
      "text/plain": [
       "<Figure size 576x504 with 2 Axes>"
      ]
     },
     "metadata": {
      "needs_background": "light"
     },
     "output_type": "display_data"
    }
   ],
   "source": [
    "fig, (ax1, ax2) = plt.subplots(2, 1, figsize = (8,7))\n",
    "\n",
    "ax1.hist(df.Score_home)\n",
    "ax1.set_title(\"Score_home\")\n",
    "ax2.hist(df.Score_away)\n",
    "_ = ax2.set_title(\"Score_away\")"
   ]
  },
  {
   "cell_type": "markdown",
   "metadata": {},
   "source": [
    "Neither of these look like a normal distribution. If anything, and this makes intuitive sense, they appear to be following an exponential or Poisson distribution. Both are used in various applications to predict waiting times of random, independent events. In a sense, a goal in a game is a pseudo-random event. If you've ever watched their occurence does not rely on the entire game but rather a very short passage of play. How can we use this knowledge to make predictions?\n",
    "### Data Preparation\n",
    "\n",
    "Now, in order to perform this analysis we'll need to melt out each individual game above such that each individual row consists of one team's result (i.e. there will be two rows per game)."
   ]
  },
  {
   "cell_type": "code",
   "execution_count": 81,
   "metadata": {},
   "outputs": [],
   "source": [
    "# based on the extensive analysis above\n",
    "FEATURES_TO_DROP = ['Shots_home', 'Shots_away', 'Touches_home', 'Possession_home', 'Possession_away',\n",
    "                                 'Touches_away','Tackles_home', 'Tackles_away', 'Arrivals_home', 'Arrivals_away',\n",
    "                                 'Departures_home', 'Departures_away', 'Corners_home', 'Corners_away',\n",
    "                                 'Red_cards_home', 'Red_cards_away', 'Yellow_cards_home', 'Yellow_cards_away']\n",
    "TARGET_PROXIES = ['MatchID', 'Team', 'year', 'Score']"
   ]
  },
  {
   "cell_type": "code",
   "execution_count": 82,
   "metadata": {},
   "outputs": [
    {
     "name": "stdout",
     "output_type": "stream",
     "text": [
      "['MatchID', 'Home_team', 'Away_team', 'Score_home', 'Score_away', 'Shots_on_target_home', 'Shots_on_target_away', 'Passes_home', 'Passes_away', 'Clearances_home', 'Clearances_away', 'Offsides_home', 'Offsides_away', 'Fouls_conceded_home', 'Fouls_conceded_away', 'year', 'Expenditures_home', 'Income_home', 'Expenditures_away', 'Income_away', 'target']\n"
     ]
    }
   ],
   "source": [
    "df_c = df.drop(columns = FEATURES_TO_DROP)\n",
    "print(list(df_c))"
   ]
  },
  {
   "cell_type": "code",
   "execution_count": 83,
   "metadata": {},
   "outputs": [
    {
     "name": "stdout",
     "output_type": "stream",
     "text": [
      "['MatchID', 'Home_team', 'year', 'Score_home', 'Shots_on_target_home', 'Passes_home', 'Clearances_home', 'Offsides_home', 'Fouls_conceded_home', 'Expenditures_home', 'Income_home'] \n",
      "\n",
      "['MatchID', 'Away_team', 'year', 'Score_away', 'Shots_on_target_away', 'Passes_away', 'Clearances_away', 'Offsides_away', 'Fouls_conceded_away', 'Expenditures_away', 'Income_away']\n"
     ]
    }
   ],
   "source": [
    "home_attributes = ['MatchID', 'Home_team', 'year'] + [a for a in list(df_c) if 'home' in a]\n",
    "away_attributes = ['MatchID', 'Away_team', 'year'] + [a for a in list(df_c) if 'away' in a]\n",
    "\n",
    "print(home_attributes, '\\n')\n",
    "print(away_attributes)"
   ]
  },
  {
   "cell_type": "code",
   "execution_count": 84,
   "metadata": {},
   "outputs": [
    {
     "name": "stdout",
     "output_type": "stream",
     "text": [
      "[5567, 'Aston Villa', 2007, 1, 3, 232, 51, 6, 19, 28.16, 2.08, 1]\n"
     ]
    }
   ],
   "source": [
    "melted = []\n",
    "\n",
    "for _, row in df_c.iterrows():\n",
    "    home_team = [row[attr] for attr in away_attributes] + [1]\n",
    "    away_team = [row[attr] for attr in home_attributes] + [0]\n",
    "    melted.append(home_team)\n",
    "    melted.append(away_team)\n",
    "\n",
    "print(melted[0])"
   ]
  },
  {
   "cell_type": "code",
   "execution_count": 85,
   "metadata": {},
   "outputs": [
    {
     "name": "stdout",
     "output_type": "stream",
     "text": [
      "['MatchID', 'Team', 'year', 'Score', 'Shots', 'Passes', 'Clearances', 'Offsides', 'Fouls', 'Expenditures', 'Income', 'IsHome']\n"
     ]
    }
   ],
   "source": [
    "features = ['MatchID', 'Team', 'year'] + [a.split('_')[0] for a in list(df_c) if 'home' in a] + ['IsHome']\n",
    "print(features)"
   ]
  },
  {
   "cell_type": "code",
   "execution_count": 86,
   "metadata": {},
   "outputs": [
    {
     "data": {
      "text/html": [
       "<div>\n",
       "<style scoped>\n",
       "    .dataframe tbody tr th:only-of-type {\n",
       "        vertical-align: middle;\n",
       "    }\n",
       "\n",
       "    .dataframe tbody tr th {\n",
       "        vertical-align: top;\n",
       "    }\n",
       "\n",
       "    .dataframe thead th {\n",
       "        text-align: right;\n",
       "    }\n",
       "</style>\n",
       "<table border=\"1\" class=\"dataframe\">\n",
       "  <thead>\n",
       "    <tr style=\"text-align: right;\">\n",
       "      <th></th>\n",
       "      <th>MatchID</th>\n",
       "      <th>Team</th>\n",
       "      <th>year</th>\n",
       "      <th>Score</th>\n",
       "      <th>Shots</th>\n",
       "      <th>Passes</th>\n",
       "      <th>Clearances</th>\n",
       "      <th>Offsides</th>\n",
       "      <th>Fouls</th>\n",
       "      <th>Expenditures</th>\n",
       "      <th>Income</th>\n",
       "      <th>IsHome</th>\n",
       "    </tr>\n",
       "  </thead>\n",
       "  <tbody>\n",
       "    <tr>\n",
       "      <th>0</th>\n",
       "      <td>5567</td>\n",
       "      <td>Aston Villa</td>\n",
       "      <td>2007</td>\n",
       "      <td>1</td>\n",
       "      <td>3</td>\n",
       "      <td>232</td>\n",
       "      <td>51</td>\n",
       "      <td>6</td>\n",
       "      <td>19</td>\n",
       "      <td>28.16</td>\n",
       "      <td>2.08</td>\n",
       "      <td>1</td>\n",
       "    </tr>\n",
       "    <tr>\n",
       "      <th>1</th>\n",
       "      <td>5567</td>\n",
       "      <td>Arsenal</td>\n",
       "      <td>2007</td>\n",
       "      <td>1</td>\n",
       "      <td>7</td>\n",
       "      <td>631</td>\n",
       "      <td>14</td>\n",
       "      <td>2</td>\n",
       "      <td>10</td>\n",
       "      <td>17.10</td>\n",
       "      <td>14.85</td>\n",
       "      <td>0</td>\n",
       "    </tr>\n",
       "    <tr>\n",
       "      <th>2</th>\n",
       "      <td>5568</td>\n",
       "      <td>Spurs</td>\n",
       "      <td>2007</td>\n",
       "      <td>0</td>\n",
       "      <td>2</td>\n",
       "      <td>427</td>\n",
       "      <td>43</td>\n",
       "      <td>1</td>\n",
       "      <td>22</td>\n",
       "      <td>69.54</td>\n",
       "      <td>44.06</td>\n",
       "      <td>1</td>\n",
       "    </tr>\n",
       "    <tr>\n",
       "      <th>3</th>\n",
       "      <td>5568</td>\n",
       "      <td>Bolton</td>\n",
       "      <td>2007</td>\n",
       "      <td>2</td>\n",
       "      <td>4</td>\n",
       "      <td>243</td>\n",
       "      <td>20</td>\n",
       "      <td>3</td>\n",
       "      <td>22</td>\n",
       "      <td>19.38</td>\n",
       "      <td>4.39</td>\n",
       "      <td>0</td>\n",
       "    </tr>\n",
       "    <tr>\n",
       "      <th>4</th>\n",
       "      <td>5569</td>\n",
       "      <td>Watford</td>\n",
       "      <td>2007</td>\n",
       "      <td>1</td>\n",
       "      <td>7</td>\n",
       "      <td>321</td>\n",
       "      <td>32</td>\n",
       "      <td>1</td>\n",
       "      <td>15</td>\n",
       "      <td>11.97</td>\n",
       "      <td>15.39</td>\n",
       "      <td>1</td>\n",
       "    </tr>\n",
       "  </tbody>\n",
       "</table>\n",
       "</div>"
      ],
      "text/plain": [
       "   MatchID         Team  year  Score  Shots  Passes  Clearances  Offsides  \\\n",
       "0     5567  Aston Villa  2007      1      3     232          51         6   \n",
       "1     5567      Arsenal  2007      1      7     631          14         2   \n",
       "2     5568        Spurs  2007      0      2     427          43         1   \n",
       "3     5568       Bolton  2007      2      4     243          20         3   \n",
       "4     5569      Watford  2007      1      7     321          32         1   \n",
       "\n",
       "   Fouls  Expenditures  Income  IsHome  \n",
       "0     19         28.16    2.08       1  \n",
       "1     10         17.10   14.85       0  \n",
       "2     22         69.54   44.06       1  \n",
       "3     22         19.38    4.39       0  \n",
       "4     15         11.97   15.39       1  "
      ]
     },
     "execution_count": 86,
     "metadata": {},
     "output_type": "execute_result"
    }
   ],
   "source": [
    "melted_df = pd.DataFrame(melted, columns = features)\n",
    "melted_df.head()"
   ]
  },
  {
   "cell_type": "code",
   "execution_count": 87,
   "metadata": {},
   "outputs": [],
   "source": [
    "from sklearn.svm import SVR\n",
    "from sklearn.neural_network import MLPRegressor\n",
    "from sklearn.neighbors import KNeighborsRegressor\n",
    "from sklearn.linear_model import Lasso, LassoLars, Ridge, BayesianRidge, SGDRegressor, LinearRegression\n",
    "from sklearn.ensemble import AdaBoostRegressor, ExtraTreesRegressor, GradientBoostingRegressor, RandomForestRegressor"
   ]
  },
  {
   "cell_type": "code",
   "execution_count": 88,
   "metadata": {},
   "outputs": [],
   "source": [
    "regressors = [SVR(), MLPRegressor(), KNeighborsRegressor(), Lasso(), LassoLars(), Ridge(), BayesianRidge(),\n",
    "              SGDRegressor(), AdaBoostRegressor(), ExtraTreesRegressor(), GradientBoostingRegressor(),\n",
    "              RandomForestRegressor(), LinearRegression()]"
   ]
  },
  {
   "cell_type": "code",
   "execution_count": 89,
   "metadata": {},
   "outputs": [
    {
     "data": {
      "text/plain": [
       "[('GradientBoostingRegressor', 1.0265744234666727),\n",
       " ('LinearRegression', 1.0336720216267545),\n",
       " ('Ridge', 1.0336730954757896),\n",
       " ('BayesianRidge', 1.0337748046046524),\n",
       " ('AdaBoostRegressor', 1.0909837967820353),\n",
       " ('MLPRegressor', 1.11775903548974),\n",
       " ('ExtraTreesRegressor', 1.118473020671656),\n",
       " ('RandomForestRegressor', 1.1212797327902657),\n",
       " ('Lasso', 1.1349840838327634),\n",
       " ('LassoLars', 1.282620230552026),\n",
       " ('SVR', 1.2925471843002752),\n",
       " ('KNeighborsRegressor', 1.2997911136453253),\n",
       " ('SGDRegressor', 150437644246824.44)]"
      ]
     },
     "execution_count": 89,
     "metadata": {},
     "output_type": "execute_result"
    }
   ],
   "source": [
    "melted_df_wo = melted_df.drop(columns = TARGET_PROXIES)\n",
    "\n",
    "X = melted_df_wo.values\n",
    "y = melted_df['Score'].values\n",
    "\n",
    "rmse_dict = run_model_diagnostics(X, y, regressors, is_classification = False)\n",
    "\n",
    "rmse_list = []\n",
    "for k, v in rmse_dict.items():\n",
    "    rmse_list.append( (k, v[0][1]) )\n",
    "sorted(rmse_list, key = lambda x: x[1])"
   ]
  },
  {
   "cell_type": "markdown",
   "metadata": {},
   "source": [
    "Based on these results we'll do some further CV testing on Gradient Boosting, Ridge, Bayesian Ridge, and MLP."
   ]
  },
  {
   "cell_type": "code",
   "execution_count": 39,
   "metadata": {},
   "outputs": [],
   "source": [
    "from sklearn.model_selection import RandomizedSearchCV\n",
    "goal_models_to_consider = {'gb': GradientBoostingRegressor(), 'ridge': Ridge(), \n",
    "                           'bridge': BayesianRidge(), 'mlp': MLPRegressor()}"
   ]
  },
  {
   "cell_type": "code",
   "execution_count": 54,
   "metadata": {},
   "outputs": [],
   "source": [
    "ridge_params = {'alpha': [ 10 ** -i for i in range(0,8)]}\n",
    "\n",
    "ridge_cv = RandomizedSearchCV(goal_models_to_consider['ridge'], ridge_params, cv = 5, n_jobs = -1)\n",
    "_ = ridge_cv.fit(X, y)"
   ]
  },
  {
   "cell_type": "code",
   "execution_count": 51,
   "metadata": {},
   "outputs": [],
   "source": [
    "bridge_params = {'alpha_1': [ 10 ** -i for i in range(0,8)],\n",
    "                 'alpha_2': [ 10 ** -i for i in range(0,8)],\n",
    "                 'lambda_1': [ 10 ** -i for i in range(0,8)],\n",
    "                 'lambda_2': [ 10 ** -i for i in range(0,8)]}\n",
    "\n",
    "bridge_cv = RandomizedSearchCV(goal_models_to_consider['bridge'], bridge_params, cv = 5, n_jobs = -1)\n",
    "_ = bridge_cv.fit(X, y)"
   ]
  },
  {
   "cell_type": "code",
   "execution_count": 57,
   "metadata": {},
   "outputs": [],
   "source": [
    "mlp_params = { 'activation' : ['identity', 'logistic', 'tanh', 'relu'],\n",
    "               'alpha': [ 10 ** -i for i in range(-1,8)],\n",
    "               'learning_rate': ['constant', 'adaptive']}\n",
    "\n",
    "mlp_cv = RandomizedSearchCV(goal_models_to_consider['mlp'], mlp_params, cv = 5, n_jobs = -1, n_iter = 20)\n",
    "_ = mlp_cv.fit(X,y)"
   ]
  },
  {
   "cell_type": "code",
   "execution_count": 56,
   "metadata": {},
   "outputs": [],
   "source": [
    "gb_params = {'loss': ['ls', 'lad', 'huber'],\n",
    "             'subsample': [0.2, 0.5, 1.0],\n",
    "             'min_samples_split': [2, 5, 10],\n",
    "             'max_depth': [3, 5, 7, 10]}\n",
    "\n",
    "gb_cv = RandomizedSearchCV(goal_models_to_consider['gb'], gb_params, cv = 5, n_jobs = -1, n_iter = 20)\n",
    "_ = gb_cv.fit(X,y)"
   ]
  },
  {
   "cell_type": "code",
   "execution_count": 58,
   "metadata": {},
   "outputs": [
    {
     "name": "stdout",
     "output_type": "stream",
     "text": [
      "{'alpha': 1} :  0.3479\n",
      "{'alpha': 0.1} :  0.3479\n",
      "{'alpha': 0.01} :  0.3479\n",
      "{'alpha': 0.001} :  0.3479\n",
      "{'alpha': 0.0001} :  0.3479\n",
      "{'alpha': 1e-05} :  0.3479\n",
      "{'alpha': 1e-06} :  0.3479\n",
      "{'alpha': 1e-07} :  0.3479\n"
     ]
    }
   ],
   "source": [
    "join_cv_results(ridge_cv.cv_results_)"
   ]
  },
  {
   "cell_type": "code",
   "execution_count": 59,
   "metadata": {},
   "outputs": [
    {
     "name": "stdout",
     "output_type": "stream",
     "text": [
      "{'lambda_2': 0.001, 'lambda_1': 1, 'alpha_2': 1e-06, 'alpha_1': 1} :  0.3479\n",
      "{'lambda_2': 0.001, 'lambda_1': 0.1, 'alpha_2': 1e-06, 'alpha_1': 0.01} :  0.3479\n",
      "{'lambda_2': 1e-06, 'lambda_1': 1, 'alpha_2': 1, 'alpha_1': 0.01} :  0.3479\n",
      "{'lambda_2': 0.01, 'lambda_1': 1e-06, 'alpha_2': 0.0001, 'alpha_1': 1e-07} :  0.3479\n",
      "{'lambda_2': 1, 'lambda_1': 1e-06, 'alpha_2': 1e-05, 'alpha_1': 0.1} :  0.3479\n",
      "{'lambda_2': 0.001, 'lambda_1': 0.001, 'alpha_2': 1e-07, 'alpha_1': 1e-06} :  0.3479\n",
      "{'lambda_2': 0.001, 'lambda_1': 1e-05, 'alpha_2': 0.001, 'alpha_1': 0.0001} :  0.3479\n",
      "{'lambda_2': 0.1, 'lambda_1': 1e-07, 'alpha_2': 1e-05, 'alpha_1': 0.0001} :  0.3479\n",
      "{'lambda_2': 0.1, 'lambda_1': 0.0001, 'alpha_2': 0.0001, 'alpha_1': 1} :  0.3479\n",
      "{'lambda_2': 0.01, 'lambda_1': 0.1, 'alpha_2': 1e-05, 'alpha_1': 1e-07} :  0.3479\n"
     ]
    }
   ],
   "source": [
    "join_cv_results(bridge_cv.cv_results_)"
   ]
  },
  {
   "cell_type": "code",
   "execution_count": 60,
   "metadata": {},
   "outputs": [
    {
     "name": "stdout",
     "output_type": "stream",
     "text": [
      "{'subsample': 0.5, 'min_samples_split': 10, 'max_depth': 3, 'loss': 'ls'} :  0.3487\n",
      "{'subsample': 1.0, 'min_samples_split': 2, 'max_depth': 10, 'loss': 'huber'} :  0.2648\n",
      "{'subsample': 0.2, 'min_samples_split': 2, 'max_depth': 10, 'loss': 'huber'} :  0.1915\n",
      "{'subsample': 0.2, 'min_samples_split': 2, 'max_depth': 3, 'loss': 'lad'} :  0.3274\n",
      "{'subsample': 0.5, 'min_samples_split': 10, 'max_depth': 5, 'loss': 'lad'} :  0.328\n",
      "{'subsample': 0.2, 'min_samples_split': 5, 'max_depth': 10, 'loss': 'huber'} :  0.1999\n",
      "{'subsample': 0.2, 'min_samples_split': 5, 'max_depth': 10, 'loss': 'lad'} :  0.2361\n",
      "{'subsample': 1.0, 'min_samples_split': 10, 'max_depth': 5, 'loss': 'huber'} :  0.3308\n",
      "{'subsample': 1.0, 'min_samples_split': 2, 'max_depth': 7, 'loss': 'lad'} :  0.2837\n",
      "{'subsample': 0.2, 'min_samples_split': 10, 'max_depth': 3, 'loss': 'ls'} :  0.3429\n",
      "{'subsample': 1.0, 'min_samples_split': 10, 'max_depth': 3, 'loss': 'ls'} :  0.3513\n",
      "{'subsample': 1.0, 'min_samples_split': 5, 'max_depth': 3, 'loss': 'ls'} :  0.3513\n",
      "{'subsample': 0.5, 'min_samples_split': 10, 'max_depth': 5, 'loss': 'huber'} :  0.3235\n",
      "{'subsample': 0.2, 'min_samples_split': 5, 'max_depth': 7, 'loss': 'huber'} :  0.2657\n",
      "{'subsample': 0.5, 'min_samples_split': 10, 'max_depth': 5, 'loss': 'ls'} :  0.3298\n",
      "{'subsample': 0.5, 'min_samples_split': 2, 'max_depth': 5, 'loss': 'huber'} :  0.3286\n",
      "{'subsample': 1.0, 'min_samples_split': 5, 'max_depth': 7, 'loss': 'huber'} :  0.3097\n",
      "{'subsample': 0.5, 'min_samples_split': 2, 'max_depth': 10, 'loss': 'ls'} :  0.2495\n",
      "{'subsample': 0.2, 'min_samples_split': 2, 'max_depth': 7, 'loss': 'ls'} :  0.2565\n",
      "{'subsample': 0.2, 'min_samples_split': 5, 'max_depth': 5, 'loss': 'lad'} :  0.3104\n"
     ]
    }
   ],
   "source": [
    "join_cv_results(gb_cv.cv_results_)"
   ]
  },
  {
   "cell_type": "code",
   "execution_count": 61,
   "metadata": {},
   "outputs": [
    {
     "name": "stdout",
     "output_type": "stream",
     "text": [
      "{'learning_rate': 'adaptive', 'alpha': 0.001, 'activation': 'logistic'} :  0.3296\n",
      "{'learning_rate': 'constant', 'alpha': 0.0001, 'activation': 'tanh'} :  0.314\n",
      "{'learning_rate': 'constant', 'alpha': 0.1, 'activation': 'logistic'} :  0.3354\n",
      "{'learning_rate': 'adaptive', 'alpha': 1, 'activation': 'tanh'} :  0.3265\n",
      "{'learning_rate': 'constant', 'alpha': 10, 'activation': 'logistic'} :  0.3065\n",
      "{'learning_rate': 'constant', 'alpha': 1, 'activation': 'relu'} :  0.2462\n",
      "{'learning_rate': 'constant', 'alpha': 0.001, 'activation': 'tanh'} :  0.3179\n",
      "{'learning_rate': 'adaptive', 'alpha': 0.01, 'activation': 'logistic'} :  0.337\n",
      "{'learning_rate': 'constant', 'alpha': 0.1, 'activation': 'tanh'} :  0.3096\n",
      "{'learning_rate': 'adaptive', 'alpha': 0.0001, 'activation': 'logistic'} :  0.3341\n",
      "{'learning_rate': 'adaptive', 'alpha': 10, 'activation': 'relu'} :  0.2727\n",
      "{'learning_rate': 'constant', 'alpha': 0.01, 'activation': 'tanh'} :  0.3126\n",
      "{'learning_rate': 'constant', 'alpha': 1e-05, 'activation': 'tanh'} :  0.3132\n",
      "{'learning_rate': 'adaptive', 'alpha': 0.1, 'activation': 'logistic'} :  0.3352\n",
      "{'learning_rate': 'adaptive', 'alpha': 1e-05, 'activation': 'logistic'} :  0.3253\n",
      "{'learning_rate': 'adaptive', 'alpha': 0.1, 'activation': 'tanh'} :  0.3047\n",
      "{'learning_rate': 'constant', 'alpha': 0.0001, 'activation': 'identity'} :  0.3278\n",
      "{'learning_rate': 'adaptive', 'alpha': 1e-07, 'activation': 'tanh'} :  0.3206\n",
      "{'learning_rate': 'adaptive', 'alpha': 1e-05, 'activation': 'tanh'} :  0.3071\n",
      "{'learning_rate': 'constant', 'alpha': 1e-06, 'activation': 'relu'} :  0.2635\n"
     ]
    }
   ],
   "source": [
    "join_cv_results(mlp_cv.cv_results_)"
   ]
  },
  {
   "cell_type": "markdown",
   "metadata": {},
   "source": [
    "Based on the above results, let's use a Gradient Boosting model using a huber loss function for our expected goals model."
   ]
  },
  {
   "cell_type": "markdown",
   "metadata": {},
   "source": [
    "## Season Simulation\n",
    "Now that we have our game-stats and expected goals models constructed we are ready to move on to simulation. Over the course of a season, many random events compound to change the relative standings of each team. By using a random simulation over the course of a season we can generate the league table prior to any matches beginning.\n",
    "\n",
    "In order to do this we will use the following methodology:\n",
    "1. Pick a window of previous games from each team's portfolio (a window)\n",
    "2. Predict the next game's game-level statistics for that team (e.g. Passes) based on those performances, subject to randomness by adding a random normal distribution on top of these predictions\n",
    "3. From a simulated set of game-level statistics use our goal model to generate the expected goals within that game\n",
    "4. Use the goals scored by each team to make a game result prediction\n",
    "\n",
    "We'll use 10 as a default window. This essentially means that the last 10 games of the previous year will be used to predict the first game and from there the window will slide over."
   ]
  },
  {
   "cell_type": "code",
   "execution_count": 90,
   "metadata": {},
   "outputs": [
    {
     "data": {
      "text/plain": [
       "2018"
      ]
     },
     "execution_count": 90,
     "metadata": {},
     "output_type": "execute_result"
    }
   ],
   "source": [
    "WINDOW = 10\n",
    "max(melted_df.year)"
   ]
  },
  {
   "cell_type": "code",
   "execution_count": 91,
   "metadata": {},
   "outputs": [
    {
     "data": {
      "text/plain": [
       "array(['Leicester', 'Arsenal', 'Man City', 'Brighton', 'Burnley',\n",
       "       'Chelsea', 'Huddersfield', 'Crystal Palace', 'Stoke', 'Everton',\n",
       "       'West Ham', 'Man Utd', 'Spurs', 'Newcastle', 'Swansea',\n",
       "       'Southampton', 'Liverpool', 'Watford', 'Bournemouth', 'West Brom'],\n",
       "      dtype=object)"
      ]
     },
     "execution_count": 91,
     "metadata": {},
     "output_type": "execute_result"
    }
   ],
   "source": [
    "# which teams were in the league that year?\n",
    "unique_teams = melted_df[melted_df.year == 2018].Team.unique()\n",
    "unique_teams"
   ]
  },
  {
   "cell_type": "code",
   "execution_count": 92,
   "metadata": {},
   "outputs": [],
   "source": [
    "goal_model = build_exp_goals_model(melted_df, GradientBoostingRegressor(loss = 'huber', max_depth = 7))"
   ]
  },
  {
   "cell_type": "code",
   "execution_count": 93,
   "metadata": {},
   "outputs": [],
   "source": [
    "model_map = {'Shots': LinearRegression(),\n",
    "             'Passes': Ridge(),\n",
    "             'Clearances': GradientBoostingRegressor(),\n",
    "             'Offsides': Ridge(),\n",
    "             'Fouls': GradientBoostingRegressor()}\n",
    "\n",
    "for feature, clf in model_map.items():\n",
    "    model_map[feature] = build_game_stats_model(melted_df, clf, feature)"
   ]
  },
  {
   "cell_type": "code",
   "execution_count": 94,
   "metadata": {},
   "outputs": [
    {
     "name": "stdout",
     "output_type": "stream",
     "text": [
      "['Liverpool' 'Arsenal' 'Man Utd' 'Bournemouth' 'Swansea' 'Burnley'\n",
      " 'West Ham' 'Chelsea' 'West Brom' 'Crystal Palace' 'Spurs' 'Everton'\n",
      " 'Leicester' 'Hull' 'Sunderland' 'Man City' 'Stoke' 'Middlesbrough'\n",
      " 'Watford' 'Southampton']\n"
     ]
    }
   ],
   "source": [
    "# now for each game in 2018 we have to simulate the match statistics & the resultant expected goals\n",
    "# recall we're using 10 games of history \n",
    "# so we'll start with the 2017 games and append each game in 2018 one-by-one\n",
    "simulated_df = melted_df[melted_df.year == 2017]\n",
    "simulated_df.head()\n",
    "print(simulated_df.Team.unique())"
   ]
  },
  {
   "cell_type": "code",
   "execution_count": 95,
   "metadata": {},
   "outputs": [
    {
     "name": "stdout",
     "output_type": "stream",
     "text": [
      "{'Shots': 2.546931901038936, 'Passes': 115.3683159143939, 'Clearances': 14.842825213227448, 'Offsides': 1.8304938875131036, 'Fouls': 3.8904622989576456}\n"
     ]
    }
   ],
   "source": [
    "st_dev_map = { feature: np.std(melted_df[feature]) for feature in model_map.keys()}\n",
    "# np.std(melted_df['Shots'])\n",
    "print(st_dev_map)"
   ]
  },
  {
   "cell_type": "markdown",
   "metadata": {},
   "source": [
    "### Single Simulation Example"
   ]
  },
  {
   "cell_type": "code",
   "execution_count": 96,
   "metadata": {},
   "outputs": [
    {
     "data": {
      "text/html": [
       "<div>\n",
       "<style scoped>\n",
       "    .dataframe tbody tr th:only-of-type {\n",
       "        vertical-align: middle;\n",
       "    }\n",
       "\n",
       "    .dataframe tbody tr th {\n",
       "        vertical-align: top;\n",
       "    }\n",
       "\n",
       "    .dataframe thead th {\n",
       "        text-align: right;\n",
       "    }\n",
       "</style>\n",
       "<table border=\"1\" class=\"dataframe\">\n",
       "  <thead>\n",
       "    <tr style=\"text-align: right;\">\n",
       "      <th></th>\n",
       "      <th>MatchID</th>\n",
       "      <th>Team</th>\n",
       "      <th>year</th>\n",
       "      <th>Expenditures</th>\n",
       "      <th>Income</th>\n",
       "      <th>IsHome</th>\n",
       "    </tr>\n",
       "  </thead>\n",
       "  <tbody>\n",
       "    <tr>\n",
       "      <th>8352</th>\n",
       "      <td>22342</td>\n",
       "      <td>Leicester</td>\n",
       "      <td>2018</td>\n",
       "      <td>100.14</td>\n",
       "      <td>54.61</td>\n",
       "      <td>1</td>\n",
       "    </tr>\n",
       "    <tr>\n",
       "      <th>8353</th>\n",
       "      <td>22342</td>\n",
       "      <td>Arsenal</td>\n",
       "      <td>2018</td>\n",
       "      <td>174.25</td>\n",
       "      <td>178.07</td>\n",
       "      <td>0</td>\n",
       "    </tr>\n",
       "    <tr>\n",
       "      <th>8354</th>\n",
       "      <td>22343</td>\n",
       "      <td>Man City</td>\n",
       "      <td>2018</td>\n",
       "      <td>361.95</td>\n",
       "      <td>104.14</td>\n",
       "      <td>1</td>\n",
       "    </tr>\n",
       "    <tr>\n",
       "      <th>8355</th>\n",
       "      <td>22343</td>\n",
       "      <td>Brighton</td>\n",
       "      <td>2018</td>\n",
       "      <td>72.39</td>\n",
       "      <td>0.00</td>\n",
       "      <td>0</td>\n",
       "    </tr>\n",
       "    <tr>\n",
       "      <th>8356</th>\n",
       "      <td>22344</td>\n",
       "      <td>Burnley</td>\n",
       "      <td>2018</td>\n",
       "      <td>40.74</td>\n",
       "      <td>57.00</td>\n",
       "      <td>1</td>\n",
       "    </tr>\n",
       "  </tbody>\n",
       "</table>\n",
       "</div>"
      ],
      "text/plain": [
       "      MatchID       Team  year  Expenditures  Income  IsHome\n",
       "8352    22342  Leicester  2018        100.14   54.61       1\n",
       "8353    22342    Arsenal  2018        174.25  178.07       0\n",
       "8354    22343   Man City  2018        361.95  104.14       1\n",
       "8355    22343   Brighton  2018         72.39    0.00       0\n",
       "8356    22344    Burnley  2018         40.74   57.00       1"
      ]
     },
     "execution_count": 96,
     "metadata": {},
     "output_type": "execute_result"
    }
   ],
   "source": [
    "season_df = melted_df[melted_df.year == 2018].drop(columns = list(model_map.keys()) + ['Score'])\n",
    "season_df.head()"
   ]
  },
  {
   "cell_type": "code",
   "execution_count": 97,
   "metadata": {},
   "outputs": [
    {
     "name": "stdout",
     "output_type": "stream",
     "text": [
      "      MatchID       Team  year  Score     Shots      Passes  Clearances  \\\n",
      "1513    22719    Swansea  2018      1  6.898844  443.483357   52.636867   \n",
      "1514    22720  Leicester  2018      0  2.189379  384.887981   52.218071   \n",
      "1515    22720      Spurs  2018      1  2.705679  540.561700   19.388534   \n",
      "1516    22721    Everton  2018      1  7.585858  599.294877   37.967685   \n",
      "1517    22721   West Ham  2018      2  5.539022  195.645865   35.423089   \n",
      "\n",
      "      Offsides      Fouls  Expenditures  Income  IsHome  \n",
      "1513  4.465805  11.243041         83.66   92.45       0  \n",
      "1514  2.355834   2.751796        100.14   54.61       1  \n",
      "1515  4.103329  10.712828        138.51  118.33       0  \n",
      "1516  1.116638  10.499177        231.65  144.19       1  \n",
      "1517  1.874939  14.043996         64.75   78.69       0  \n"
     ]
    }
   ],
   "source": [
    "# now we'll use this dataframe to generate all the results\n",
    "for row in season_df.iterrows():\n",
    "    game = row[1]\n",
    "    simulated_result = fit_game(game, simulated_df, model_map, goal_model, st_dev_map)\n",
    "    simulated_df = simulated_df.append(simulated_result, ignore_index = True)\n",
    "    \n",
    "print(simulated_df.tail())"
   ]
  },
  {
   "cell_type": "code",
   "execution_count": 98,
   "metadata": {},
   "outputs": [
    {
     "data": {
      "text/plain": [
       "[('Chelsea', 90),\n",
       " ('Man City', 75),\n",
       " ('Everton', 71),\n",
       " ('Liverpool', 62),\n",
       " ('Stoke', 58),\n",
       " ('Man Utd', 55),\n",
       " ('Spurs', 52),\n",
       " ('Leicester', 51),\n",
       " ('Southampton', 51),\n",
       " ('Arsenal', 50),\n",
       " ('Crystal Palace', 50),\n",
       " ('West Ham', 49),\n",
       " ('Bournemouth', 49),\n",
       " ('Brighton', 46),\n",
       " ('Swansea', 45),\n",
       " ('Burnley', 40),\n",
       " ('Huddersfield', 37),\n",
       " ('Watford', 36),\n",
       " ('Newcastle', 29),\n",
       " ('West Brom', 27)]"
      ]
     },
     "execution_count": 98,
     "metadata": {},
     "output_type": "execute_result"
    }
   ],
   "source": [
    "points = get_team_points(simulated_df)\n",
    "sorted( points, key = lambda x: -x[1])"
   ]
  },
  {
   "cell_type": "markdown",
   "metadata": {},
   "source": [
    "### Full Run\n",
    "Now we'll do 100 simulation runs to get some idea of where teams can potentially end up over the course of a season. It's important to know that there are incentives not just to outright winning the league. The top 4 teams each year get to participate in the UEFA Champions League in the subsequent season. This European-wide competition is not only presitigous but brings enormous financial rewards to the participating teams (through TV & gate revenue). Meanwhile, the worst 3 teams face the relegation to the lower league in English football, which could be something of a financial death note (at least given their likely squad salaries which would have to be slashed)."
   ]
  },
  {
   "cell_type": "code",
   "execution_count": 113,
   "metadata": {},
   "outputs": [],
   "source": [
    "RUNS = 100\n",
    "\n",
    "point_totals, positions = run_simulation(melted_df, RUNS, model_map, goal_model, st_dev_map)"
   ]
  },
  {
   "cell_type": "code",
   "execution_count": 114,
   "metadata": {},
   "outputs": [
    {
     "data": {
      "text/plain": [
       "[('Chelsea', 79.85),\n",
       " ('Man City', 71.27),\n",
       " ('Spurs', 67.61),\n",
       " ('Liverpool', 62.64),\n",
       " ('Everton', 62.57),\n",
       " ('Arsenal', 61.8),\n",
       " ('Man Utd', 58.36),\n",
       " ('Leicester', 53.03),\n",
       " ('Watford', 46.19),\n",
       " ('Stoke', 44.96),\n",
       " ('Southampton', 44.87),\n",
       " ('Burnley', 43.07),\n",
       " ('Swansea', 42.61),\n",
       " ('Crystal Palace', 41.63),\n",
       " ('West Ham', 41.6),\n",
       " ('Brighton', 39.99),\n",
       " ('West Brom', 39.74),\n",
       " ('Bournemouth', 39.24),\n",
       " ('Newcastle', 37.29),\n",
       " ('Huddersfield', 36.0)]"
      ]
     },
     "execution_count": 114,
     "metadata": {},
     "output_type": "execute_result"
    }
   ],
   "source": [
    "# avg. table\n",
    "sorted( [(team, sum(points)/len(points)) for team, points in point_totals.items()], key = lambda x: -x[1] )"
   ]
  },
  {
   "cell_type": "code",
   "execution_count": 132,
   "metadata": {},
   "outputs": [],
   "source": [
    "def calculate_winning_probability(positions):\n",
    "    prob_of_winning = []\n",
    "    for team, pos in positions.items():\n",
    "        t = (team, pos.count(1)/len(pos))\n",
    "        prob_of_winning.append(t)\n",
    "    return prob_of_winning\n",
    "    \n",
    "def calculate_top_4_probability(positions):\n",
    "    prob_of_top4 = []\n",
    "    for team, pos in positions.items():\n",
    "        top4_count = 0\n",
    "        for p in pos:\n",
    "            if p < 5:\n",
    "                top4_count += 1\n",
    "        t = (team, top4_count/len(pos))\n",
    "        prob_of_top4.append(t)\n",
    "    return prob_of_top4\n",
    "    \n",
    "def calculate_position_interval(positions):\n",
    "    intervals = []\n",
    "    for team, pos in positions.items():\n",
    "        d = {'team': team, 'max_pos': min(pos), \n",
    "             'avg_pos': sum(pos)/len(pos), 'stdev_pos': round(np.std(pos),4)}\n",
    "        intervals.append(d)\n",
    "    return intervals"
   ]
  },
  {
   "cell_type": "code",
   "execution_count": 118,
   "metadata": {},
   "outputs": [
    {
     "data": {
      "text/plain": [
       "[('Chelsea', 0.63),\n",
       " ('Man City', 0.16),\n",
       " ('Spurs', 0.08),\n",
       " ('Everton', 0.04),\n",
       " ('Liverpool', 0.04),\n",
       " ('Arsenal', 0.03),\n",
       " ('Man Utd', 0.02),\n",
       " ('Leicester', 0.0),\n",
       " ('Brighton', 0.0),\n",
       " ('Burnley', 0.0),\n",
       " ('Huddersfield', 0.0),\n",
       " ('Crystal Palace', 0.0),\n",
       " ('Stoke', 0.0),\n",
       " ('West Ham', 0.0),\n",
       " ('Newcastle', 0.0),\n",
       " ('Swansea', 0.0),\n",
       " ('Southampton', 0.0),\n",
       " ('Watford', 0.0),\n",
       " ('Bournemouth', 0.0),\n",
       " ('West Brom', 0.0)]"
      ]
     },
     "execution_count": 118,
     "metadata": {},
     "output_type": "execute_result"
    }
   ],
   "source": [
    "# winning probability table\n",
    "sorted(calculate_winning_probability(positions), key = lambda x: -x[1])"
   ]
  },
  {
   "cell_type": "code",
   "execution_count": 124,
   "metadata": {},
   "outputs": [
    {
     "data": {
      "text/plain": [
       "[('Chelsea', 0.96),\n",
       " ('Man City', 0.82),\n",
       " ('Spurs', 0.65),\n",
       " ('Everton', 0.46),\n",
       " ('Liverpool', 0.4),\n",
       " ('Arsenal', 0.39),\n",
       " ('Man Utd', 0.19),\n",
       " ('Leicester', 0.08),\n",
       " ('Stoke', 0.02),\n",
       " ('Watford', 0.02),\n",
       " ('Brighton', 0.01),\n",
       " ('Burnley', 0.0),\n",
       " ('Huddersfield', 0.0),\n",
       " ('Crystal Palace', 0.0),\n",
       " ('West Ham', 0.0),\n",
       " ('Newcastle', 0.0),\n",
       " ('Swansea', 0.0),\n",
       " ('Southampton', 0.0),\n",
       " ('Bournemouth', 0.0),\n",
       " ('West Brom', 0.0)]"
      ]
     },
     "execution_count": 124,
     "metadata": {},
     "output_type": "execute_result"
    }
   ],
   "source": [
    "# top 4 probability table\n",
    "sorted(calculate_top_4_probability(positions), key = lambda x: -x[1])"
   ]
  },
  {
   "cell_type": "code",
   "execution_count": 135,
   "metadata": {},
   "outputs": [
    {
     "data": {
      "text/html": [
       "<div>\n",
       "<style scoped>\n",
       "    .dataframe tbody tr th:only-of-type {\n",
       "        vertical-align: middle;\n",
       "    }\n",
       "\n",
       "    .dataframe tbody tr th {\n",
       "        vertical-align: top;\n",
       "    }\n",
       "\n",
       "    .dataframe thead th {\n",
       "        text-align: right;\n",
       "    }\n",
       "</style>\n",
       "<table border=\"1\" class=\"dataframe\">\n",
       "  <thead>\n",
       "    <tr style=\"text-align: right;\">\n",
       "      <th></th>\n",
       "      <th>avg_pos</th>\n",
       "      <th>max_pos</th>\n",
       "      <th>stdev_pos</th>\n",
       "    </tr>\n",
       "    <tr>\n",
       "      <th>team</th>\n",
       "      <th></th>\n",
       "      <th></th>\n",
       "      <th></th>\n",
       "    </tr>\n",
       "  </thead>\n",
       "  <tbody>\n",
       "    <tr>\n",
       "      <th>Leicester</th>\n",
       "      <td>8.45</td>\n",
       "      <td>3</td>\n",
       "      <td>3.0899</td>\n",
       "    </tr>\n",
       "    <tr>\n",
       "      <th>Arsenal</th>\n",
       "      <td>5.46</td>\n",
       "      <td>1</td>\n",
       "      <td>2.6093</td>\n",
       "    </tr>\n",
       "    <tr>\n",
       "      <th>Man City</th>\n",
       "      <td>3.02</td>\n",
       "      <td>1</td>\n",
       "      <td>1.9286</td>\n",
       "    </tr>\n",
       "    <tr>\n",
       "      <th>Brighton</th>\n",
       "      <td>14.75</td>\n",
       "      <td>4</td>\n",
       "      <td>3.6315</td>\n",
       "    </tr>\n",
       "    <tr>\n",
       "      <th>Burnley</th>\n",
       "      <td>13.12</td>\n",
       "      <td>5</td>\n",
       "      <td>3.7290</td>\n",
       "    </tr>\n",
       "    <tr>\n",
       "      <th>Chelsea</th>\n",
       "      <td>1.68</td>\n",
       "      <td>1</td>\n",
       "      <td>1.1391</td>\n",
       "    </tr>\n",
       "    <tr>\n",
       "      <th>Huddersfield</th>\n",
       "      <td>16.65</td>\n",
       "      <td>7</td>\n",
       "      <td>3.0311</td>\n",
       "    </tr>\n",
       "    <tr>\n",
       "      <th>Crystal Palace</th>\n",
       "      <td>13.91</td>\n",
       "      <td>5</td>\n",
       "      <td>3.7579</td>\n",
       "    </tr>\n",
       "    <tr>\n",
       "      <th>Stoke</th>\n",
       "      <td>12.57</td>\n",
       "      <td>4</td>\n",
       "      <td>3.7610</td>\n",
       "    </tr>\n",
       "    <tr>\n",
       "      <th>Everton</th>\n",
       "      <td>5.51</td>\n",
       "      <td>1</td>\n",
       "      <td>3.0512</td>\n",
       "    </tr>\n",
       "    <tr>\n",
       "      <th>West Ham</th>\n",
       "      <td>14.08</td>\n",
       "      <td>5</td>\n",
       "      <td>3.9413</td>\n",
       "    </tr>\n",
       "    <tr>\n",
       "      <th>Man Utd</th>\n",
       "      <td>6.60</td>\n",
       "      <td>1</td>\n",
       "      <td>2.6981</td>\n",
       "    </tr>\n",
       "    <tr>\n",
       "      <th>Spurs</th>\n",
       "      <td>3.97</td>\n",
       "      <td>1</td>\n",
       "      <td>2.0516</td>\n",
       "    </tr>\n",
       "    <tr>\n",
       "      <th>Newcastle</th>\n",
       "      <td>16.27</td>\n",
       "      <td>7</td>\n",
       "      <td>3.2492</td>\n",
       "    </tr>\n",
       "    <tr>\n",
       "      <th>Swansea</th>\n",
       "      <td>13.74</td>\n",
       "      <td>6</td>\n",
       "      <td>3.8357</td>\n",
       "    </tr>\n",
       "    <tr>\n",
       "      <th>Southampton</th>\n",
       "      <td>12.57</td>\n",
       "      <td>5</td>\n",
       "      <td>3.6090</td>\n",
       "    </tr>\n",
       "    <tr>\n",
       "      <th>Liverpool</th>\n",
       "      <td>5.35</td>\n",
       "      <td>1</td>\n",
       "      <td>2.5075</td>\n",
       "    </tr>\n",
       "    <tr>\n",
       "      <th>Watford</th>\n",
       "      <td>11.96</td>\n",
       "      <td>3</td>\n",
       "      <td>3.7038</td>\n",
       "    </tr>\n",
       "    <tr>\n",
       "      <th>Bournemouth</th>\n",
       "      <td>15.32</td>\n",
       "      <td>8</td>\n",
       "      <td>3.5267</td>\n",
       "    </tr>\n",
       "    <tr>\n",
       "      <th>West Brom</th>\n",
       "      <td>15.02</td>\n",
       "      <td>6</td>\n",
       "      <td>3.7469</td>\n",
       "    </tr>\n",
       "  </tbody>\n",
       "</table>\n",
       "</div>"
      ],
      "text/plain": [
       "                avg_pos  max_pos  stdev_pos\n",
       "team                                       \n",
       "Leicester          8.45        3     3.0899\n",
       "Arsenal            5.46        1     2.6093\n",
       "Man City           3.02        1     1.9286\n",
       "Brighton          14.75        4     3.6315\n",
       "Burnley           13.12        5     3.7290\n",
       "Chelsea            1.68        1     1.1391\n",
       "Huddersfield      16.65        7     3.0311\n",
       "Crystal Palace    13.91        5     3.7579\n",
       "Stoke             12.57        4     3.7610\n",
       "Everton            5.51        1     3.0512\n",
       "West Ham          14.08        5     3.9413\n",
       "Man Utd            6.60        1     2.6981\n",
       "Spurs              3.97        1     2.0516\n",
       "Newcastle         16.27        7     3.2492\n",
       "Swansea           13.74        6     3.8357\n",
       "Southampton       12.57        5     3.6090\n",
       "Liverpool          5.35        1     2.5075\n",
       "Watford           11.96        3     3.7038\n",
       "Bournemouth       15.32        8     3.5267\n",
       "West Brom         15.02        6     3.7469"
      ]
     },
     "execution_count": 135,
     "metadata": {},
     "output_type": "execute_result"
    }
   ],
   "source": [
    "pos_df = pd.DataFrame(calculate_position_interval(positions))\n",
    "pos_df.set_index('team')"
   ]
  },
  {
   "cell_type": "markdown",
   "metadata": {},
   "source": [
    "For comparison, the actual table from that year can be found [here](https://www.skysports.com/premier-league-table/2017)."
   ]
  }
 ],
 "metadata": {
  "kernelspec": {
   "display_name": "Python 3",
   "language": "python",
   "name": "python3"
  },
  "language_info": {
   "codemirror_mode": {
    "name": "ipython",
    "version": 3
   },
   "file_extension": ".py",
   "mimetype": "text/x-python",
   "name": "python",
   "nbconvert_exporter": "python",
   "pygments_lexer": "ipython3",
   "version": "3.7.1"
  }
 },
 "nbformat": 4,
 "nbformat_minor": 2
}
